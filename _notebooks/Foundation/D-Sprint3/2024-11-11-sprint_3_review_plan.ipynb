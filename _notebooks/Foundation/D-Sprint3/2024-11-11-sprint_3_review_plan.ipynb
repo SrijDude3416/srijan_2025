{
 "cells": [
  {
   "cell_type": "markdown",
   "metadata": {},
   "source": [
    "---\n",
    "toc: true \n",
    "comments: True \n",
    "layout: post \n",
    "title: Sprint 3 Review Guide\n",
    "description: Final Sprint 3 Review\n",
    "type: collab\n",
    "courses: { csa: {week: 12} }\n",
    "---"
   ]
  },
  {
   "cell_type": "markdown",
   "metadata": {},
   "source": [
    "| **Assignment**                | **Points**    | **Grade** | **Evidence** |\n",
    "|-------------------------------|---------------|-----------|--------------|\n",
    "| Sprint 1-3 Review Ticket      | 3             |           | [Sprint 1](https://github.com/SrijDude3416/srijan_2025/issues/2), [Sprint 2](https://github.com/SrijDude3416/srijan_2025/issues/6), Sprint 3 (this thing)             |\n",
    "| Sprint 3 Team Issue(s)/Plan   | 2             |    1.8    |  [Plan Presentation](https://github.com/JITS-K/JITS_Frontend_Project1/issues/4#issue-2614500919), [All Issues](https://github.com/JITS-K/JITS_Frontend_Project1/issues/)            |\n",
    "| Beginning-2-End Contribution  | 2             |    1.7    |      [Analytics](https://github.com/SrijDude3416/srijan_2025/issues/8#issue-2670642076)       |\n",
    "| N@tM Team Presentation        | 2             |    1.83   |   More subjective but I believe that we did a good job staying engaging, had a constant flow of parents/people. [Comments Received](https://github.com/SrijDude3416/srijan_2025/issues/9#issue-2670648016)     |\n",
    "| Live Review Indi Demo         | 1             |  10000 (i hope)   |    live demo 🔥   |\n",
    "| **Total**                     | 10            |           |    I'm just the goat no cap       |"
   ]
  },
  {
   "cell_type": "markdown",
   "metadata": {},
   "source": []
  },
  {
   "cell_type": "markdown",
   "metadata": {},
   "source": []
  },
  {
   "cell_type": "markdown",
   "metadata": {},
   "source": []
  }
 ],
 "metadata": {
  "language_info": {
   "name": "python"
  }
 },
 "nbformat": 4,
 "nbformat_minor": 2
}
