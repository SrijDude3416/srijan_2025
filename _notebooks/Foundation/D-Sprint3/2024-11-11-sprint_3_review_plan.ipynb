{
 "cells": [
  {
   "cell_type": "markdown",
   "metadata": {},
   "source": [
    "---\n",
    "toc: true \n",
    "comments: True \n",
    "layout: post \n",
    "title: Sprint 3 Review Guide\n",
    "description: Final Sprint 3 Review\n",
    "type: collab\n",
    "courses: { csa: {week: 12} }\n",
    "---"
   ]
  },
  {
   "cell_type": "markdown",
   "metadata": {},
   "source": [
    "| **Assignment**                | **Points**    | **Grade** | **Evidence** |\n",
    "|-------------------------------|---------------|-----------|--------------|\n",
    "| Sprint 1-3 Review Ticket      | 3             |           |              |\n",
    "| Sprint 3 Team Issue(s)/Plan   | 2             |    1.8    |  [Plan Presentation](https://github.com/JITS-K/JITS_Frontend_Project1/issues/4#issue-2614500919), [All Issues](https://github.com/JITS-K/JITS_Frontend_Project1/issues/)            |\n",
    "| Beginning-2-End Contribution  | 2             |    1.7    |              |\n",
    "| N@tM Team Presentation        | 2             |    1.83   |              |\n",
    "| Live Review Indi Demo         | 1             |  10000 (i hope)   |    live demo 🔥   |\n",
    "| **Total**                     | 10            |           |              |"
   ]
  },
  {
   "cell_type": "markdown",
   "metadata": {},
   "source": []
  },
  {
   "cell_type": "markdown",
   "metadata": {},
   "source": []
  }
 ],
 "metadata": {
  "language_info": {
   "name": "python"
  }
 },
 "nbformat": 4,
 "nbformat_minor": 2
}
