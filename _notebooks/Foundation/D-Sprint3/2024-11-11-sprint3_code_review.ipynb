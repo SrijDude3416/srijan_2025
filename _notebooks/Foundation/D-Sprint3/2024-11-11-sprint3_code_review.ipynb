{
 "cells": [
  {
   "cell_type": "markdown",
   "metadata": {},
   "source": [
    "---\n",
    "toc: true \n",
    "comments: True \n",
    "layout: post \n",
    "title: Sprint 3 Code Review\n",
    "description: Final Sprint 3 Code Review\n",
    "type: collab\n",
    "courses: { csa: {week: 12} }\n",
    "---"
   ]
  },
  {
   "cell_type": "markdown",
   "metadata": {},
   "source": [
    "# Code, Code, Code... The Real Fun Stuff"
   ]
  },
  {
   "cell_type": "markdown",
   "metadata": {},
   "source": [
    "<img width=\"607\" alt=\"image\" src=\"https://github.com/user-attachments/assets/026f90d9-2da6-4c09-b51e-f577119b51f6\"> "
   ]
  },
  {
   "cell_type": "markdown",
   "metadata": {},
   "source": [
    "Important to note is the ManyToOne mapping that is tying the assignments variable to the Assignments Table in the DB. \n",
    "This is crucial because it allows for easy integration with Matthew Wang's Group (Slack Reader) by just saying: OneToMany on their POJO handler and boom."
   ]
  },
  {
   "cell_type": "markdown",
   "metadata": {},
   "source": [
    "### Proof this thing actually works because who knows, maybe I'm lying (mysterious music plays)\n",
    "\n",
    "#### Assignments Table\n",
    "<img width=\"981\" alt=\"image\" src=\"https://github.com/user-attachments/assets/ede267a5-164a-45b4-8f7d-c109997dd3f0\">\n",
    "\n",
    "#### Tasks Table\n",
    "<img width=\"977\" alt=\"image\" src=\"https://github.com/user-attachments/assets/6ae33443-6c3f-452b-92eb-e8821037cbcd\">\n",
    "\n",
    "#### Proof of object mapping\n",
    "<img width=\"850\" alt=\"image\" src=\"https://github.com/user-attachments/assets/9618c000-a73b-44ee-9563-a0502bca5794\">\n"
   ]
  },
  {
   "cell_type": "markdown",
   "metadata": {},
   "source": [
    "\n"
   ]
  }
 ],
 "metadata": {
  "language_info": {
   "name": "python"
  }
 },
 "nbformat": 4,
 "nbformat_minor": 2
}
