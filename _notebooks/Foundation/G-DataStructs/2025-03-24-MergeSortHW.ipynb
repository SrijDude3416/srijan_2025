{
 "cells": [
  {
   "cell_type": "markdown",
   "metadata": {},
   "source": [
    "---\n",
    "toc: false \n",
    "layout: post\n",
    "title: Selection + Insertion Sort HW\n",
    "description: Homework on both the selection and insertion sort methods\n",
    "courses: { csa: {week: 26} }\n",
    "type: ccc\n",
    "permalink: /classwork/merge-sort\n",
    "---"
   ]
  },
  {
   "cell_type": "code",
   "execution_count": 5,
   "metadata": {
    "vscode": {
     "languageId": "java"
    }
   },
   "outputs": [
    {
     "name": "stdout",
     "output_type": "stream",
     "text": [
      "Original Array:\n",
      "12 11 13 5 6 7 \n",
      "Sorted Array:\n",
      "5 6 7 11 12 13 "
     ]
    }
   ],
   "source": [
    "// MergeSort class containing the merge sort algorithm\n",
    "public class MergeSort {\n",
    "\n",
    "    // Function to merge two subarrays\n",
    "    private static void merge(int[] array, int left, int mid, int right) {\n",
    "        int n1 = mid - left + 1;\n",
    "        int n2 = right - mid;\n",
    "\n",
    "        int[] leftArray = new int[n1];\n",
    "        int[] rightArray = new int[n2];\n",
    "\n",
    "        for (int i = 0; i < n1; i++) {\n",
    "            leftArray[i] = array[left + i];\n",
    "        }\n",
    "        for (int j = 0; j < n2; j++) {\n",
    "            rightArray[j] = array[mid + 1 + j];\n",
    "        }\n",
    "\n",
    "        int i = 0, j = 0, k = left;\n",
    "        while (i < n1 && j < n2) {\n",
    "            if (leftArray[i] <= rightArray[j]) {\n",
    "                array[k] = leftArray[i];\n",
    "                i++;\n",
    "            } else {\n",
    "                array[k] = rightArray[j];\n",
    "                j++;\n",
    "            }\n",
    "            k++;\n",
    "        }\n",
    "\n",
    "        while (i < n1) {\n",
    "            array[k] = leftArray[i];\n",
    "            i++;\n",
    "            k++;\n",
    "        }\n",
    "\n",
    "        while (j < n2) {\n",
    "            array[k] = rightArray[j];\n",
    "            j++;\n",
    "            k++;\n",
    "        }\n",
    "    }\n",
    "\n",
    "    // Recursive function to perform merge sort\n",
    "    public static void mergeSort(int[] array, int left, int right) {\n",
    "        if (left < right) {\n",
    "            int mid = left + (right - left) / 2;\n",
    "\n",
    "            mergeSort(array, left, mid);\n",
    "            mergeSort(array, mid + 1, right);\n",
    "\n",
    "            merge(array, left, mid, right);\n",
    "        }\n",
    "    }\n",
    "\n",
    "    // Main method to test the merge sort implementation\n",
    "    public static void main(String[] args) {\n",
    "        int[] array = {12, 11, 13, 5, 6, 7};\n",
    "        System.out.println(\"Original Array:\");\n",
    "        for (int num : array) {\n",
    "            System.out.print(num + \" \");\n",
    "        }\n",
    "        System.out.println();\n",
    "\n",
    "        mergeSort(array, 0, array.length - 1);\n",
    "\n",
    "        System.out.println(\"Sorted Array:\");\n",
    "        for (int num : array) {\n",
    "            System.out.print(num + \" \");\n",
    "        }\n",
    "    }\n",
    "}\n",
    "\n",
    "MergeSort.main(new String[0]);"
   ]
  }
 ],
 "metadata": {
  "kernelspec": {
   "display_name": "Java",
   "language": "java",
   "name": "java"
  },
  "language_info": {
   "codemirror_mode": "java",
   "file_extension": ".jshell",
   "mimetype": "text/x-java-source",
   "name": "Java",
   "pygments_lexer": "java",
   "version": "17.0.12+8-LTS-286"
  }
 },
 "nbformat": 4,
 "nbformat_minor": 2
}
