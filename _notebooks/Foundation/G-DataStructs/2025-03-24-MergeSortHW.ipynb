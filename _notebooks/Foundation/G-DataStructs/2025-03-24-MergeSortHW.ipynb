{
 "cells": [
  {
   "cell_type": "markdown",
   "metadata": {},
   "source": [
    "---\n",
    "toc: false \n",
    "layout: post\n",
    "title: Selection + Insertion Sort HW\n",
    "description: Homework on both the selection and insertion sort methods\n",
    "courses: { csa: {week: 26} }\n",
    "type: ccc\n",
    "permalink: /classwork/merge-sort\n",
    "---"
   ]
  },
  {
   "cell_type": "code",
   "execution_count": null,
   "metadata": {
    "vscode": {
     "languageId": "java"
    }
   },
   "outputs": [],
   "source": [
    "## Popcorn Hack"
   ]
  },
  {
   "cell_type": "code",
   "execution_count": null,
   "metadata": {
    "vscode": {
     "languageId": "markdown"
    }
   },
   "outputs": [],
   "source": [
    "/*\n",
    "1. Time Complexity of Merge Sort:\n",
    "    - Best Case: O(n log n)\n",
    "    - Worst Case: O(n log n)\n",
    "    - Average Case: O(n log n)\n",
    "    Merge sort consistently divides the array into halves and merges them, resulting in a time complexity of O(n log n) in all cases.\n",
    "\n",
    "2. Comparison with Bubble Sort and Quicksort:\n",
    "    - Bubble Sort: Time complexity is O(n^2) in the worst and average cases, making it inefficient for large datasets. Merge sort is much faster.\n",
    "    - Quicksort: Average case is O(n log n), but the worst case is O(n^2) if the pivot selection is poor. Merge sort is more predictable and stable.\n",
    "    - Merge sort is preferred when stability is required or when working with linked lists, as it does not require random access.\n",
    "\n",
    "3. Why Merge Sort is a “Divide and Conquer” Algorithm:\n",
    "    - Merge sort divides the array into smaller subarrays, sorts them recursively, and then merges the sorted subarrays. This \"divide and conquer\" approach breaks the problem into smaller, manageable parts.\n",
    "\n",
    "4. Stability of Merge Sort:\n",
    "    - Merge sort is stable because it preserves the relative order of equal elements during merging. Stability matters in scenarios where the order of equal elements carries significance, such as when sorting by multiple keys.\n",
    "*/"
   ]
  },
  {
   "cell_type": "code",
   "execution_count": 1,
   "metadata": {
    "vscode": {
     "languageId": "java"
    }
   },
   "outputs": [
    {
     "name": "stdout",
     "output_type": "stream",
     "text": [
      "Original Array:\n",
      "12 11 13 5 6 7 \n",
      "Sorted Array:\n",
      "5 6 7 11 12 13 "
     ]
    }
   ],
   "source": [
    "// MergeSort class containing the merge sort algorithm\n",
    "public class MergeSort {\n",
    "\n",
    "    // Function to merge two subarrays\n",
    "    private static void merge(int[] array, int left, int mid, int right) {\n",
    "        int n1 = mid - left + 1;\n",
    "        int n2 = right - mid;\n",
    "\n",
    "        int[] leftArray = new int[n1];\n",
    "        int[] rightArray = new int[n2];\n",
    "\n",
    "        for (int i = 0; i < n1; i++) {\n",
    "            leftArray[i] = array[left + i];\n",
    "        }\n",
    "        for (int j = 0; j < n2; j++) {\n",
    "            rightArray[j] = array[mid + 1 + j];\n",
    "        }\n",
    "\n",
    "        int i = 0, j = 0, k = left;\n",
    "        while (i < n1 && j < n2) {\n",
    "            if (leftArray[i] <= rightArray[j]) {\n",
    "                array[k] = leftArray[i];\n",
    "                i++;\n",
    "            } else {\n",
    "                array[k] = rightArray[j];\n",
    "                j++;\n",
    "            }\n",
    "            k++;\n",
    "        }\n",
    "\n",
    "        while (i < n1) {\n",
    "            array[k] = leftArray[i];\n",
    "            i++;\n",
    "            k++;\n",
    "        }\n",
    "\n",
    "        while (j < n2) {\n",
    "            array[k] = rightArray[j];\n",
    "            j++;\n",
    "            k++;\n",
    "        }\n",
    "    }\n",
    "\n",
    "    // Recursive function to perform merge sort\n",
    "    public static void mergeSort(int[] array, int left, int right) {\n",
    "        if (left < right) {\n",
    "            int mid = left + (right - left) / 2;\n",
    "\n",
    "            mergeSort(array, left, mid);\n",
    "            mergeSort(array, mid + 1, right);\n",
    "\n",
    "            merge(array, left, mid, right);\n",
    "        }\n",
    "    }\n",
    "\n",
    "    // Main method to test the merge sort implementation\n",
    "    public static void main(String[] args) {\n",
    "        int[] array = {12, 11, 13, 5, 6, 7};\n",
    "        System.out.println(\"Original Array:\");\n",
    "        for (int num : array) {\n",
    "            System.out.print(num + \" \");\n",
    "        }\n",
    "        System.out.println();\n",
    "\n",
    "        mergeSort(array, 0, array.length - 1);\n",
    "\n",
    "        System.out.println(\"Sorted Array:\");\n",
    "        for (int num : array) {\n",
    "            System.out.print(num + \" \");\n",
    "        }\n",
    "    }\n",
    "}\n",
    "\n",
    "MergeSort.main(new String[0]);"
   ]
  }
 ],
 "metadata": {
  "kernelspec": {
   "display_name": "Java",
   "language": "java",
   "name": "java"
  },
  "language_info": {
   "codemirror_mode": "java",
   "file_extension": ".jshell",
   "mimetype": "text/x-java-source",
   "name": "Java",
   "pygments_lexer": "java",
   "version": "17.0.12+8-LTS-286"
  }
 },
 "nbformat": 4,
 "nbformat_minor": 2
}
