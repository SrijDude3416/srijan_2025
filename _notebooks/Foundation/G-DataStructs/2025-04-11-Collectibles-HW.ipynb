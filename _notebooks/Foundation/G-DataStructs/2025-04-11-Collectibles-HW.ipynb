{
 "cells": [
  {
   "cell_type": "markdown",
   "id": "49e222b6",
   "metadata": {},
   "source": [
    "---\n",
    "toc: True\n",
    "comments: True\n",
    "layout: post\n",
    "title: Collectibles HW\n",
    "description: \n",
    "type: ccc\n",
    "permalink: /collectibles\n",
    "courses: { csa: {week: 0} }\n",
    "---"
   ]
  },
  {
   "cell_type": "markdown",
   "id": "a0363d02",
   "metadata": {},
   "source": [
    "## Popcorn Hack #1"
   ]
  },
  {
   "cell_type": "code",
   "execution_count": null,
   "id": "d5df518e",
   "metadata": {
    "vscode": {
     "languageId": "java"
    }
   },
   "outputs": [
    {
     "name": "stdout",
     "output_type": "stream",
     "text": [
      "Even Numbers: [6, 8, 10, 12, 14, 18]\n",
      "Odd Numbers: [3, 5, 7, 21]\n",
      "Largest Even Number: 18\n"
     ]
    }
   ],
   "source": [
    "import java.util.ArrayList;\n",
    "import java.util.Collections;\n",
    "import java.util.List;\n",
    "import java.util.stream.Collectors;\n",
    "\n",
    "public class ListExperiment {\n",
    "    public static void main(String[] args) {\n",
    "        List<Integer> numbers = new ArrayList<>();\n",
    "\n",
    "        Collections.addAll(numbers, 12, 7, 5, 18, 3, 10, 21, 8, 14, 6);\n",
    "\n",
    "        Collections.sort(numbers);\n",
    "\n",
    "        List<Integer> evenNumbers = numbers.stream()\n",
    "                                           .filter(num -> num % 2 == 0)\n",
    "                                           .collect(Collectors.toList());\n",
    "        System.out.println(\"Even Numbers: \" + evenNumbers);\n",
    "\n",
    "        List<Integer> oddNumbers = numbers.stream()\n",
    "                                          .filter(num -> num % 2 != 0)\n",
    "                                          .collect(Collectors.toList());\n",
    "        System.out.println(\"Odd Numbers: \" + oddNumbers);\n",
    "\n",
    "        int largestEven = evenNumbers.stream()\n",
    "                                     .max(Integer::compareTo)\n",
    "                                     .orElseThrow(() -> new RuntimeException(\"No even numbers found\"));\n",
    "        System.out.println(\"Largest Even Number: \" + largestEven);\n",
    "    }\n",
    "}\n",
    "\n",
    "ListExperiment.main(null);"
   ]
  },
  {
   "cell_type": "markdown",
   "id": "bcc6fbdd",
   "metadata": {},
   "source": [
    "## Popcorn Hack 2"
   ]
  },
  {
   "cell_type": "code",
   "execution_count": 15,
   "id": "47c5fbcd",
   "metadata": {
    "vscode": {
     "languageId": "java"
    }
   },
   "outputs": [
    {
     "name": "stdout",
     "output_type": "stream",
     "text": [
      "Enter a name to search for the phone number: Srijan\n",
      "\n",
      "8583349429\n"
     ]
    }
   ],
   "source": [
    "import java.util.HashMap;\n",
    "import java.util.Map;\n",
    "import java.util.Scanner;\n",
    "\n",
    "public class HashMapDemo {\n",
    "    public static void main(String[] args) {\n",
    "        Map<String, String> phoneNumberMap = new HashMap<>();\n",
    "        phoneNumberMap.put(\"Srijan\", \"8583349429\");\n",
    "        phoneNumberMap.put(\"Matthew\", \"1111111111\");\n",
    "        phoneNumberMap.put(\"Eric\", \"2222222222\");\n",
    "        phoneNumberMap.put(\"Aashray\", \"3333333333\");\n",
    "        phoneNumberMap.put(\"Nikhil\", \"4444444444\");\n",
    "\n",
    "        // Retrieve value by key\n",
    "        // prompt user for name\n",
    "        Scanner scanner = new Scanner(System.in);\n",
    "        System.out.print(\"Enter a name to search for the phone number: \");\n",
    "        String name = scanner.nextLine();\n",
    "\n",
    "        System.out.println(name);\n",
    "        \n",
    "\n",
    "        if (phoneNumberMap.get(name) == null) {\n",
    "            System.out.println(\"\\n not found\");\n",
    "        } else {\n",
    "            System.out.println(\"\\n\" + phoneNumberMap.get(name));\n",
    "        }\n",
    "\n",
    "    }\n",
    "}\n",
    "\n",
    "HashMapDemo.main(null);"
   ]
  },
  {
   "cell_type": "markdown",
   "id": "d0508829",
   "metadata": {},
   "source": [
    "## Popcorn 3"
   ]
  },
  {
   "cell_type": "code",
   "execution_count": null,
   "id": "1d810719",
   "metadata": {
    "vscode": {
     "languageId": "java"
    }
   },
   "outputs": [],
   "source": [
    "import java.util.ArrayDeque;\n",
    "import java.util.Deque;\n",
    "import java.util.List;\n",
    "import java.util.ArrayList;\n",
    "\n",
    "public class DequeExperiment {\n",
    "    public static void main(String[] args) {\n",
    "        Deque<String> deque = new ArrayDeque<>();\n",
    "\n",
    "        deque.addFirst(\"First\");\n",
    "        deque.addLast(\"Last\");\n",
    "        deque.addFirst(\"New First\");\n",
    "        deque.addLast(\"New Last\");\n",
    "\n",
    "        System.out.println(\"Deque after additions: \" + deque);\n",
    "\n",
    "        deque.removeFirst();\n",
    "\n",
    "        deque.removeLast();\n",
    "\n",
    "        System.out.println(\"Deque after removals: \" + deque);\n",
    "\n",
    "        List<String> dequeAsList = new ArrayList<>(deque);\n",
    "        System.out.println(\"Deque as a list: \" + dequeAsList);\n",
    "\n",
    "        System.out.println(\"Removing elements:\");\n",
    "        while (!deque.isEmpty()) {\n",
    "            System.out.println(deque.removeFirst());\n",
    "        }\n",
    "    }\n",
    "}\n",
    "\n",
    "DequeExperiment.main(null);"
   ]
  }
 ],
 "metadata": {
  "kernelspec": {
   "display_name": "Java",
   "language": "java",
   "name": "java"
  },
  "language_info": {
   "codemirror_mode": "java",
   "file_extension": ".jshell",
   "mimetype": "text/x-java-source",
   "name": "Java",
   "pygments_lexer": "java",
   "version": "17.0.12+8-LTS-286"
  }
 },
 "nbformat": 4,
 "nbformat_minor": 5
}
