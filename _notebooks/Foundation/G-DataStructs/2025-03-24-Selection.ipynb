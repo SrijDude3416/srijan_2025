{
 "cells": [
  {
   "cell_type": "markdown",
   "metadata": {},
   "source": [
    "---\n",
    "toc: false \n",
    "layout: post\n",
    "title: Selection + Insertion Sort HW\n",
    "description: Homework on both the selection and insertion sort methods\n",
    "courses: { csa: {week: 26} }\n",
    "type: ccc\n",
    "permalink: /classwork/selection-insertion-sort\n",
    "---"
   ]
  },
  {
   "cell_type": "code",
   "execution_count": 3,
   "metadata": {},
   "outputs": [
    {
     "name": "stdout",
     "output_type": "stream",
     "text": [
      "Insertion Sort: [4, 9, 10, 12, 13, 14, 18, 23, 25, 28, 29, 30, 37, 40, 50]\n",
      "Selection Sort: [4, 9, 10, 12, 13, 14, 18, 23, 25, 28, 29, 30, 37, 40, 50]\n"
     ]
    }
   ],
   "source": [
    "import java.util.Arrays;\n",
    "\n",
    "// Test Array\n",
    "int[] supplies = {29, 10, 14, 37, 13, 18, 25, 30, 4, 9, 12, 40, 50, 23, 28};\n",
    "\n",
    "// Insertion Sort\n",
    "public static void insertionSort(int[] arr) {\n",
    "    for (int i = 1; i < arr.length; i++) {\n",
    "        int key = arr[i];\n",
    "        int j = i - 1;\n",
    "\n",
    "        // Move elements of arr[0..i-1], that are greater than key,\n",
    "        // to one position ahead of their current position\n",
    "        while (j >= 0 && arr[j] > key) {\n",
    "            arr[j + 1] = arr[j];\n",
    "            j = j - 1;\n",
    "        }\n",
    "        arr[j + 1] = key;\n",
    "    }\n",
    "    System.out.println(\"Insertion Sort: \" + Arrays.toString(arr));\n",
    "}\n",
    "\n",
    "// Selection Sort\n",
    "public static void selectionSort(int[] arr) {\n",
    "    for (int i = 0; i < arr.length - 1; i++) {\n",
    "        // Find the minimum element in unsorted array\n",
    "        int minIdx = i;\n",
    "        for (int j = i + 1; j < arr.length; j++) {\n",
    "            if (arr[j] < arr[minIdx]) {\n",
    "                minIdx = j;\n",
    "            }\n",
    "        }\n",
    "\n",
    "        // Swap the found minimum element with the first element\n",
    "        int temp = arr[minIdx];\n",
    "        arr[minIdx] = arr[i];\n",
    "        arr[i] = temp;\n",
    "    }\n",
    "    System.out.println(\"Selection Sort: \" + Arrays.toString(arr));\n",
    "}\n",
    "\n",
    "insertionSort(supplies.clone()); // Use clone to avoid modifying the original array\n",
    "selectionSort(supplies.clone()); // Use clone to avoid modifying the original array"
   ]
  }
 ],
 "metadata": {
  "kernelspec": {
   "display_name": "Java",
   "language": "java",
   "name": "java"
  },
  "language_info": {
   "codemirror_mode": "java",
   "file_extension": ".jshell",
   "mimetype": "text/x-java-source",
   "name": "java",
   "pygments_lexer": "java",
   "version": "17.0.12+8-LTS-286"
  }
 },
 "nbformat": 4,
 "nbformat_minor": 2
}
