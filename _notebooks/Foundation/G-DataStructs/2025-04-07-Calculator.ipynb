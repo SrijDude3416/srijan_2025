{
 "cells": [
  {
   "cell_type": "markdown",
   "metadata": {},
   "source": [
    "---\n",
    "toc: True\n",
    "comments: True\n",
    "layout: post\n",
    "title: Calculator Enactment HW\n",
    "description: \n",
    "type: ccc\n",
    "permalink: calculator\n",
    "courses: { csa: {week: 0} }\n",
    "---"
   ]
  },
  {
   "cell_type": "markdown",
   "metadata": {},
   "source": [
    "Homework (hw)\n",
    "Queue Task: Modify the CalculatorQueue to support more complex operations, such as multiplication and division.\n",
    "Stack Task: Modify the CalculatorStack to reverse the order of addition and handle operations in the LIFO sequence.\n",
    "Add a method to both the stack and queue programs to handle invalid operations and display an error message.\n",
    "Create a method for both programs to display all operations before processing them, and track the result after each operation.\n",
    "Advanced Task: Implement a calculator that supports parentheses using a stack to ensure proper operation precedence.\n",
    "Postfix evaulation using an array (this allows numbers to be more than 0-9)"
   ]
  },
  {
   "cell_type": "code",
   "execution_count": 18,
   "metadata": {
    "vscode": {
     "languageId": "java"
    }
   },
   "outputs": [],
   "source": [
    "import java.util.LinkedList;\n",
    "import java.util.Queue;\n",
    "\n",
    "public class CalculatorQueue {\n",
    "\n",
    "    private static double evaluateOperation(String operation) {\n",
    "        String[] parts = operation.split(\" \");\n",
    "        if (parts.length != 3) {\n",
    "            throw new IllegalArgumentException(\"Invalid operation format\");\n",
    "        }\n",
    "\n",
    "        double num1 = Double.parseDouble(parts[0]);\n",
    "        String operator = parts[1];\n",
    "        double num2 = Double.parseDouble(parts[2]);\n",
    "\n",
    "        return switch (operator) {\n",
    "            case \"+\" -> num1 + num2;\n",
    "            case \"-\" -> num1 - num2;\n",
    "            case \"*\" -> num1 * num2;\n",
    "            case \"/\" -> {\n",
    "                if (num2 == 0) {\n",
    "                    throw new IllegalArgumentException(\"Division by zero\");\n",
    "                }\n",
    "                yield num1 / num2;\n",
    "            }\n",
    "            default -> throw new IllegalArgumentException(\"Unsupported operator: \" + operator);\n",
    "        };\n",
    "    }\n",
    "\n",
    "    private static void displayOperations(Queue<String> operations) {\n",
    "        System.out.println(\"Operations in the queue:\");\n",
    "        for (String operation : operations) {\n",
    "            System.out.println(operation);\n",
    "        }\n",
    "    }\n",
    "\n",
    "    public static void main(String[] args) {\n",
    "        Queue<String> operations = new LinkedList<>();\n",
    "\n",
    "        operations.add(\"3 + 5\");\n",
    "        operations.add(\"2 - 1\");\n",
    "        operations.add(\"4 * 6\");\n",
    "        operations.add(\"8 / 2\");\n",
    "        operations.add(\"10 / 0\"); // Invalid operation for testing\n",
    "        operations.add(\"5 ^ 2\");  // Unsupported operator for testing\n",
    "\n",
    "        displayOperations(operations);\n",
    "\n",
    "        while (!operations.isEmpty()) {\n",
    "            String operation = operations.poll();\n",
    "            System.out.println(\"Processing: \" + operation);\n",
    "            try {\n",
    "                double result = evaluateOperation(operation);\n",
    "                System.out.println(\"Result: \" + result);\n",
    "            } catch (IllegalArgumentException e) {\n",
    "                System.out.println(\"Error: \" + e.getMessage());\n",
    "            }\n",
    "        }\n",
    "    }\n",
    "}"
   ]
  },
  {
   "cell_type": "code",
   "execution_count": 19,
   "metadata": {
    "vscode": {
     "languageId": "java"
    }
   },
   "outputs": [
    {
     "name": "stdout",
     "output_type": "stream",
     "text": [
      "Operations in the queue:\n",
      "3 + 5\n",
      "2 - 1\n",
      "4 * 6\n",
      "8 / 2\n",
      "10 / 0\n",
      "5 ^ 2\n",
      "Processing: 3 + 5\n",
      "Result: 8.0\n",
      "Processing: 2 - 1\n",
      "Result: 1.0\n",
      "Processing: 4 * 6\n",
      "Result: 24.0\n",
      "Processing: 8 / 2\n",
      "Result: 4.0\n",
      "Processing: 10 / 0\n",
      "Error: Division by zero\n",
      "Processing: 5 ^ 2\n",
      "Error: Unsupported operator: ^\n"
     ]
    }
   ],
   "source": [
    "CalculatorQueue.main(new String[0]);\n"
   ]
  },
  {
   "cell_type": "code",
   "execution_count": null,
   "metadata": {
    "vscode": {
     "languageId": "java"
    }
   },
   "outputs": [],
   "source": []
  },
  {
   "cell_type": "code",
   "execution_count": 16,
   "metadata": {
    "vscode": {
     "languageId": "java"
    }
   },
   "outputs": [],
   "source": [
    "import java.util.Stack;\n",
    "\n",
    "public class CalculatorStack {\n",
    "\n",
    "    private static double evaluateOperation(String operation) {\n",
    "        String[] parts = operation.split(\" \");\n",
    "        if (parts.length != 3) {\n",
    "            throw new IllegalArgumentException(\"Invalid operation format\");\n",
    "        }\n",
    "\n",
    "        double num1 = Double.parseDouble(parts[0]);\n",
    "        String operator = parts[1];\n",
    "        double num2 = Double.parseDouble(parts[2]);\n",
    "\n",
    "        return switch (operator) {\n",
    "            case \"+\" -> num1 + num2;\n",
    "            case \"-\" -> num1 - num2;\n",
    "            case \"*\" -> num1 * num2;\n",
    "            case \"/\" -> {\n",
    "                if (num2 == 0) {\n",
    "                    throw new IllegalArgumentException(\"Division by zero\");\n",
    "                }\n",
    "                yield num1 / num2;\n",
    "            }\n",
    "            default -> throw new IllegalArgumentException(\"Unsupported operator: \" + operator);\n",
    "        };\n",
    "    }\n",
    "\n",
    "    private static void displayOperations(Stack<String> operations) {\n",
    "        System.out.println(\"Operations in the stack:\");\n",
    "        for (String operation : operations) {\n",
    "            System.out.println(operation);\n",
    "        }\n",
    "    }\n",
    "\n",
    "    public static void main(String[] args) {\n",
    "        Stack<String> operations = new Stack<>();\n",
    "\n",
    "        // Adding operations in reverse order to simulate LIFO\n",
    "        operations.push(\"10 / 0\"); // Invalid operation for testing\n",
    "        operations.push(\"5 ^ 2\");  // Unsupported operator for testing\n",
    "        operations.push(\"8 / 2\");\n",
    "        operations.push(\"4 * 6\");\n",
    "        operations.push(\"2 - 1\");\n",
    "        operations.push(\"3 + 5\");\n",
    "\n",
    "        displayOperations(operations);\n",
    "\n",
    "        while (!operations.isEmpty()) {\n",
    "            String operation = operations.pop(); // LIFO order\n",
    "            System.out.println(\"Processing: \" + operation);\n",
    "            try {\n",
    "                double result = evaluateOperation(operation);\n",
    "                System.out.println(\"Result: \" + result);\n",
    "            } catch (IllegalArgumentException e) {\n",
    "                System.out.println(\"Error: \" + e.getMessage());\n",
    "            }\n",
    "        }\n",
    "    }\n",
    "}"
   ]
  },
  {
   "cell_type": "code",
   "execution_count": 17,
   "metadata": {
    "vscode": {
     "languageId": "java"
    }
   },
   "outputs": [
    {
     "name": "stdout",
     "output_type": "stream",
     "text": [
      "Operations in the stack:\n"
     ]
    },
    {
     "name": "stdout",
     "output_type": "stream",
     "text": [
      "10 / 0\n",
      "5 ^ 2\n",
      "8 / 2\n",
      "4 * 6\n",
      "2 - 1\n",
      "3 + 5\n",
      "Processing: 3 + 5\n",
      "Result: 8.0\n",
      "Processing: 2 - 1\n",
      "Result: 1.0\n",
      "Processing: 4 * 6\n",
      "Result: 24.0\n",
      "Processing: 8 / 2\n",
      "Result: 4.0\n",
      "Processing: 5 ^ 2\n",
      "Error: Unsupported operator: ^\n",
      "Processing: 10 / 0\n",
      "Error: Division by zero\n"
     ]
    }
   ],
   "source": [
    "CalculatorStack.main(new String[0]);"
   ]
  }
 ],
 "metadata": {
  "kernelspec": {
   "display_name": "Java",
   "language": "java",
   "name": "java"
  },
  "language_info": {
   "codemirror_mode": "java",
   "file_extension": ".jshell",
   "mimetype": "text/x-java-source",
   "name": "Java",
   "pygments_lexer": "java",
   "version": "17.0.14+7-Ubuntu-122.04.1"
  }
 },
 "nbformat": 4,
 "nbformat_minor": 2
}
