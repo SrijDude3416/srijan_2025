{
 "cells": [
  {
   "cell_type": "markdown",
   "metadata": {},
   "source": [
    "---\n",
    "layout: post\n",
    "title:  Girls in CS - Seminar Panel\n",
    "description: Learning and growing with the experience of past CSA students\n",
    "type: collab\n",
    "courses: { csa: {week: 20} }\n",
    "comments: true\n",
    "---"
   ]
  },
  {
   "cell_type": "markdown",
   "metadata": {},
   "source": [
    "## Basic Notes:\n",
    "\n",
    "People skills:\n",
    "- Clear and concise when talking to people\n",
    "    - Know in your head what points you want to say\n",
    "    - Go down that list piece by piece\n",
    "\n",
    "Managing large teams:\n",
    "- GitBooks\n",
    "- speak to leads of subteams\n",
    "- understand how components interact instead of attempting to understand all nitty-gritty\n",
    "\n",
    "College:\n",
    "- Columbia - ethics + stem\n",
    "    - Highlight nuance in essays?\n",
    "- In essays talk about specific class or specific thing that the college provides\n",
    "\n",
    "Explore: \n",
    "- User diagrams\n"
   ]
  },
  {
   "cell_type": "markdown",
   "metadata": {},
   "source": [
    "## Looking Deeper:\n",
    "\n",
    "### GitBooks <img width=\"193\" alt=\"Screenshot 2025-01-12 at 11 01 44 PM\" src=\"https://github.com/user-attachments/assets/afe93b96-b608-4e8d-91bd-ba813edc12b3\" />\n",
    "\n",
    "GitBook is a modern platform for creating, organizing, and sharing documentation, knowledge bases, and guides in a collaborative and user-friendly environment. It supports Markdown, integrates with tools like GitHub, and offers powerful features like version control, customizable themes, and responsive design.\n",
    "TLDR: github issues on steroids\n",
    "\n",
    "<img width=\"1059\" alt=\"image\" src=\"https://github.com/user-attachments/assets/28e90efd-2a2b-4fc9-95e3-ba75d1103910\" />\n",
    "\n",
    "\n",
    "problem: costs money (currently finding alternatives )\n",
    "\n",
    "\n",
    "\n"
   ]
  },
  {
   "cell_type": "code",
   "execution_count": null,
   "metadata": {
    "vscode": {
     "languageId": "plaintext"
    }
   },
   "outputs": [],
   "source": []
  }
 ],
 "metadata": {
  "language_info": {
   "name": "python"
  }
 },
 "nbformat": 4,
 "nbformat_minor": 2
}
