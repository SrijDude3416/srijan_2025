{
 "cells": [
  {
   "cell_type": "markdown",
   "id": "27ca8a9c",
   "metadata": {},
   "source": [
    "---\n",
    "toc: true \n",
    "comments: True \n",
    "layout: post \n",
    "title: CollegeBoard MCQ Review\n",
    "description: Reviewing and fixing everything I got wrong on CSA CB MCQ 2015\n",
    "type: collab\n",
    "permalink: /cbwork/2015-mcq\n",
    "courses: { csa: {week: 12} }\n",
    "---"
   ]
  },
  {
   "cell_type": "markdown",
   "id": "f058138a",
   "metadata": {},
   "source": [
    "# 2015 Practice Exam MCQ"
   ]
  },
  {
   "cell_type": "markdown",
   "id": "d302007e",
   "metadata": {},
   "source": [
    "![MCQ Review](https://i.ibb.co/KcTSQPY2/image.png)"
   ]
  },
  {
   "cell_type": "markdown",
   "id": "fa7cecc9",
   "metadata": {},
   "source": [
    "## Corrections\n",
    "\n",
    "<details>\n",
    "<summary>Q37</summary>\n",
    "\n",
    "<img width=\"836\" alt=\"Image\" src=\"https://github.com/user-attachments/assets/14c416e1-9ab9-4cbb-b7b1-e05ad14531e9\" />\n",
    "\n",
    "- **My Answer**: I and II  \n",
    "- **Correct Answer**: II and III  \n",
    "\n",
    "I got this wrong because I didn't fully understand what the problem was asking us to do. Because of this, I misunderstood what the first for loop was actually iterating through.\n",
    "</details>\n",
    "\n",
    "---\n",
    "\n",
    "<details>\n",
    "<summary>Q34</summary>\n",
    "\n",
    "<img width=\"822\" alt=\"Image\" src=\"https://github.com/user-attachments/assets/ee506ecb-43ce-4361-a064-12d08b116d30\" />\n",
    "\n",
    "- **My Answer**:  \n",
    "  - Expression: `listOfWords.size() - 1`  \n",
    "  - Condition: `k != sizeOfList -1`  \n",
    "- **Correct Answer**:  \n",
    "  - Expression: `listOfWords.size()`  \n",
    "  - Condition: `k != sizeOfList -1`  \n",
    "\n",
    "I don't need to subtract by one on the `listOfWords.size()` because the for loop is non-inclusive on the upper bounds of iteration.\n",
    "</details>\n",
    "\n",
    "---\n",
    "\n",
    "<details>\n",
    "<summary>Q32</summary>\n",
    "\n",
    "<img width=\"776\" alt=\"Image\" src=\"https://github.com/user-attachments/assets/22a24f74-0447-43b5-ae7f-8c03679c871f\" />\n",
    "\n",
    "- **My Answer**:  \n",
    "  <img width=\"287\" alt=\"Image\" src=\"https://github.com/user-attachments/assets/70ea018b-a1e2-4cf5-b3ea-7a6cdc675342\" />\n",
    "\n",
    "- **Correct Answer**:  \n",
    "  <img width=\"305\" alt=\"Image\" src=\"https://github.com/user-attachments/assets/7c9ee786-5b47-4338-b5e5-cd3227fbc1d0\" />\n",
    "\n",
    "We need to use the `.getAge()` method because there is no such method as `.age()`.\n",
    "</details>\n",
    "\n",
    "---\n",
    "\n",
    "<details>\n",
    "<summary>Q27</summary>\n",
    "\n",
    "<img width=\"832\" alt=\"Image\" src=\"https://github.com/user-attachments/assets/944b47d0-f53e-4b82-b182-0d2fc6f22c0e\" />\n",
    "\n",
    "- **My Answer**: `{1,2,3,6,5,4}`  \n",
    "- **Correct Answer**: `{1,2,3,5,4,6}`  \n",
    "\n",
    "6 gets moved to the back of the list and swapped with 1 on first pass; then, 3 is swapped with 2; the next pass is useless because it's just 3 again.\n",
    "</details>\n",
    "\n",
    "---\n",
    "\n",
    "<details>\n",
    "<summary>Q9</summary>\n",
    "\n",
    "<img width=\"806\" alt=\"Image\" src=\"https://github.com/user-attachments/assets/733c6ba6-33eb-46d1-85e5-074f197dd51d\" />\n",
    "\n",
    "- **My Answer**: `(int)(Math.random() * 6) + (int)(Math.random() * 6)`  \n",
    "- **Correct Answer**: `2 + (int)(Math.random() * 6) + (int)(Math.random() * 6)`  \n",
    "\n",
    "`Math.random()` can't generate a value of 1 but can generate 0, so since we're casting to an integer, it becomes a max of 5 for both. We need to start at 2, not 0.\n",
    "</details>\n"
   ]
  }
 ],
 "metadata": {
  "language_info": {
   "name": "python"
  }
 },
 "nbformat": 4,
 "nbformat_minor": 5
}
