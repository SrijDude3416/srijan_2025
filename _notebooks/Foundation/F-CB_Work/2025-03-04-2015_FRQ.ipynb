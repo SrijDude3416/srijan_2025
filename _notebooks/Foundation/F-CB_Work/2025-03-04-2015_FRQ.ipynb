{
 "cells": [
  {
   "cell_type": "markdown",
   "metadata": {},
   "source": [
    "---\n",
    "layout: post\n",
    "title:  2015 FRQ College Board Work\n",
    "description: Responses and Reflection to 2015 CB FRQs\n",
    "type: collab\n",
    "permalink: /cbwork/2015-frqs\n",
    "courses: { csa: {week: 24} }\n",
    "comments: true\n",
    "---"
   ]
  },
  {
   "cell_type": "markdown",
   "metadata": {},
   "source": [
    "## 2015 FRQ"
   ]
  },
  {
   "cell_type": "markdown",
   "metadata": {},
   "source": [
    "## 1. (Score: 9/9 2+4+3)\n",
    "### a."
   ]
  },
  {
   "cell_type": "code",
   "execution_count": 1,
   "metadata": {
    "vscode": {
     "languageId": "java"
    }
   },
   "outputs": [],
   "source": [
    "public static int arraySum(int[] arr) {\n",
    "    int sum = 0;\n",
    "    for (int elem : arr) {\n",
    "        sum += elem;\n",
    "    }\n",
    "    return sum;\n",
    "}"
   ]
  },
  {
   "cell_type": "markdown",
   "metadata": {},
   "source": [
    "### b."
   ]
  },
  {
   "cell_type": "code",
   "execution_count": null,
   "metadata": {
    "vscode": {
     "languageId": "java"
    }
   },
   "outputs": [],
   "source": [
    "public static int[] rowSums(int[][] arr2D) {\n",
    "    int [] sums = new int[arr2D.length];\n",
    "    int rowNum = 0;\n",
    "    for (int[] row : arr2D) {\n",
    "        sums[rowNum] = arraySum(row);\n",
    "        rowNum++; // ORIGINALLY INCORRECT -> NEED TO INCREMENT ROWS\n",
    "    }\n",
    "    return sums;\n",
    "}"
   ]
  },
  {
   "cell_type": "markdown",
   "metadata": {},
   "source": [
    "### c."
   ]
  },
  {
   "cell_type": "code",
   "execution_count": 3,
   "metadata": {
    "vscode": {
     "languageId": "java"
    }
   },
   "outputs": [],
   "source": [
    "public static boolean isDiverse(int[][] arr2D) {\n",
    "    int[] sums = rowSums(arr2D);\n",
    "    for (int i=0; i < sums.length; i++) {\n",
    "        for (int j=i+1; j < sums.length; j++) {\n",
    "            if (sums[i] == sums[j]) {\n",
    "                return false;\n",
    "            }\n",
    "        }\n",
    "    }\n",
    "    return true;\n",
    "}"
   ]
  },
  {
   "cell_type": "markdown",
   "metadata": {},
   "source": [
    "### TEST"
   ]
  },
  {
   "cell_type": "code",
   "execution_count": null,
   "metadata": {
    "vscode": {
     "languageId": "java"
    }
   },
   "outputs": [
    {
     "name": "stdout",
     "output_type": "stream",
     "text": [
      "Sum of array: 16\n",
      "Row sums: [16, 32, 20]\n",
      "Is diverse: true\n"
     ]
    }
   ],
   "source": [
    "int[] testArray = {1,3,2,7,3};\n",
    "System.out.println(\"Sum of array: \" + arraySum(testArray)); // expected: 16\n",
    "\n",
    "int[][] test2DArray = {\n",
    "    {1,3,2,7,3},\n",
    "    {10,10,4,6,2},\n",
    "    {7,6,4,2,1}\n",
    "};\n",
    "int[] rowSumsResult = rowSums(test2DArray);\n",
    "System.out.println(\"Row sums: \" + Arrays.toString(rowSumsResult)); // Expected: [16,32,20]\n",
    "\n",
    "System.out.println(\"Is diverse: \" + isDiverse(test2DArray)); // Expected: true"
   ]
  },
  {
   "cell_type": "markdown",
   "metadata": {},
   "source": [
    "## 2. (Score: 8/9)"
   ]
  },
  {
   "cell_type": "code",
   "execution_count": null,
   "metadata": {
    "vscode": {
     "languageId": "java"
    }
   },
   "outputs": [],
   "source": [
    "public class HiddenWord {\n",
    "    private String hidden;\n",
    "\n",
    "    public HiddenWord(String input) {\n",
    "        hidden = input;\n",
    "    }\n",
    "\n",
    "    public String getHint(String guess) {\n",
    "        String result = \"\";\n",
    "        for (int i = 0; i < guess.length(); i++) {\n",
    "            String ch_guess = guess.substring(i, i + 1); // IMPORTANT: KEEP IN MIND THAT SUBSTRING IS NOT INCLUSIVE ON SECOND VALUE\n",
    "            String ch_hidden = hidden.substring(i, i + 1); \n",
    "            if (ch_guess.equals(ch_hidden)) {\n",
    "                result += ch;\n",
    "            } else if (hidden.contains(ch)) {\n",
    "                result += \"+\";\n",
    "            } else {\n",
    "                result += \"*\";\n",
    "            }\n",
    "        }\n",
    "        return result;\n",
    "    }\n",
    "}\n"
   ]
  },
  {
   "cell_type": "markdown",
   "metadata": {},
   "source": [
    "#### TEST"
   ]
  },
  {
   "cell_type": "code",
   "execution_count": 12,
   "metadata": {
    "vscode": {
     "languageId": "java"
    }
   },
   "outputs": [
    {
     "name": "stdout",
     "output_type": "stream",
     "text": [
      "+A+++\n",
      "H****\n",
      "H*++*\n"
     ]
    }
   ],
   "source": [
    "HiddenWord puzzle = new HiddenWord(\"HARPS\");\n",
    "\n",
    "System.out.println(puzzle.getHint(\"AAAAA\")); // expected: +A+++\n",
    "System.out.println(puzzle.getHint(\"HELLO\")); // expected: H****\n",
    "System.out.println(puzzle.getHint(\"HEART\")); // expected: H*++*"
   ]
  },
  {
   "cell_type": "markdown",
   "metadata": {},
   "source": [
    "## 3. (Score: 3+3/9)"
   ]
  },
  {
   "cell_type": "markdown",
   "metadata": {},
   "source": [
    "### a."
   ]
  },
  {
   "cell_type": "code",
   "execution_count": null,
   "metadata": {
    "vscode": {
     "languageId": "java"
    }
   },
   "outputs": [],
   "source": [
    "public int getValueAt(int row, int col){\n",
    "    for (SparseArrayEntry e : entries){\n",
    "        if (e.getRow() == row && e.getCol() == col){\n",
    "            return e.getValue();\n",
    "        }\n",
    "    }\n",
    "    \n",
    "    return 0;\n",
    "}"
   ]
  },
  {
   "cell_type": "markdown",
   "metadata": {},
   "source": [
    "### b.\n",
    "Was not able to complete fully\n",
    "[Watched Video For Help](https://www.youtube.com/watch?v=3Ri96baBr38)"
   ]
  },
  {
   "cell_type": "code",
   "execution_count": null,
   "metadata": {
    "vscode": {
     "languageId": "java"
    }
   },
   "outputs": [],
   "source": [
    "public void removeColumn(int col){\n",
    "    int i=0;\n",
    "\n",
    "    while (i < entries.size()){\n",
    "        SparseArrayEntry e = entries.get(i);\n",
    "        \n",
    "        if (e.getCol() == col){\n",
    "            entries.remove(i);\n",
    "        } else if (e.getCol() > col){\n",
    "            entries.set(i, new SparseArrayEntry(e.getRow(),\n",
    "                                        e.getCol()-1,\n",
    "                                        e.getValue()));\n",
    "            i++;\n",
    "        } else {\n",
    "            i++;\n",
    "        }\n",
    "    }\n",
    "    \n",
    "    numCols--;\n",
    "}"
   ]
  },
  {
   "cell_type": "markdown",
   "metadata": {},
   "source": [
    "## 4.  (Score: 4/9)"
   ]
  },
  {
   "cell_type": "markdown",
   "metadata": {},
   "source": [
    "### a."
   ]
  },
  {
   "cell_type": "code",
   "execution_count": null,
   "metadata": {
    "vscode": {
     "languageId": "java"
    }
   },
   "outputs": [],
   "source": [
    "public interface NumberGroup {\n",
    "    boolean contains(int num);\n",
    "}"
   ]
  },
  {
   "cell_type": "markdown",
   "metadata": {},
   "source": [
    "### b.\n",
    "\n",
    "Was not able to complete\n",
    "[Watched Video For Help](https://www.youtube.com/watch?v=3Ri96baBr38)"
   ]
  },
  {
   "cell_type": "code",
   "execution_count": null,
   "metadata": {
    "vscode": {
     "languageId": "java"
    }
   },
   "outputs": [],
   "source": [
    "public class Range implements NumberGroup\n",
    "{\n",
    "    private int max;\n",
    "    private int min;\n",
    "\n",
    "    public Range(int min, int max) {\n",
    "        this.min = min;\n",
    "        this.max = max;\n",
    "    }\n",
    "\n",
    "    public boolean contains(int num) {\n",
    "        return num >= min && num <= max;\n",
    "    }\n",
    "}"
   ]
  },
  {
   "cell_type": "markdown",
   "metadata": {},
   "source": [
    "### c."
   ]
  },
  {
   "cell_type": "code",
   "execution_count": null,
   "metadata": {
    "vscode": {
     "languageId": "java"
    }
   },
   "outputs": [],
   "source": [
    "public boolean contains(int num) {\n",
    "    for (NumberGroup group : groupList) {\n",
    "        if (group.contains(num)) {\n",
    "            return true;\n",
    "        }\n",
    "    }\n",
    "    return false;\n",
    "}"
   ]
  },
  {
   "cell_type": "markdown",
   "metadata": {},
   "source": [
    "#### TEST"
   ]
  },
  {
   "cell_type": "code",
   "execution_count": null,
   "metadata": {
    "vscode": {
     "languageId": "java"
    }
   },
   "outputs": [],
   "source": []
  }
 ],
 "metadata": {
  "kernelspec": {
   "display_name": "Java",
   "language": "java",
   "name": "java"
  },
  "language_info": {
   "codemirror_mode": "java",
   "file_extension": ".jshell",
   "mimetype": "text/x-java-source",
   "name": "Java",
   "pygments_lexer": "java",
   "version": "17.0.12+8-LTS-286"
  }
 },
 "nbformat": 4,
 "nbformat_minor": 2
}
