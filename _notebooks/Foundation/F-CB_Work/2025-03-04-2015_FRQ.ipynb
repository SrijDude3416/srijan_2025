{
 "cells": [
  {
   "cell_type": "markdown",
   "metadata": {},
   "source": [
    "---\n",
    "layout: post\n",
    "title:  2015 FRQ College Board Work\n",
    "description: Responses and Reflection to 2015 CB FRQs\n",
    "type: collab\n",
    "permalink: /2015-cb-frqs\n",
    "courses: { csa: {week: 24} }\n",
    "comments: true\n",
    "---"
   ]
  },
  {
   "cell_type": "markdown",
   "metadata": {},
   "source": [
    "## 2015 FRQ"
   ]
  },
  {
   "cell_type": "markdown",
   "metadata": {},
   "source": [
    "## 1.\n",
    "### a."
   ]
  },
  {
   "cell_type": "code",
   "execution_count": 1,
   "metadata": {
    "vscode": {
     "languageId": "java"
    }
   },
   "outputs": [],
   "source": [
    "public static int arraySum(int[] arr) {\n",
    "    int sum = 0;\n",
    "    for (int elem : arr) {\n",
    "        sum += elem;\n",
    "    }\n",
    "    return sum;\n",
    "}"
   ]
  },
  {
   "cell_type": "markdown",
   "metadata": {},
   "source": [
    "### b."
   ]
  },
  {
   "cell_type": "code",
   "execution_count": null,
   "metadata": {
    "vscode": {
     "languageId": "java"
    }
   },
   "outputs": [],
   "source": [
    "public static int[] rowSums(int[][] arr2D) {\n",
    "    int [] sums = new int[arr2D.length];\n",
    "    int rowNum = 0;\n",
    "    for (int[] row : arr2D) {\n",
    "        sums[rowNum] = arraySum(row);\n",
    "        rowNum++; // ORIGINALLY INCORRECT -> NEED TO INCREMENT ROWS\n",
    "    }\n",
    "    return sums;\n",
    "}"
   ]
  },
  {
   "cell_type": "markdown",
   "metadata": {},
   "source": [
    "### c."
   ]
  },
  {
   "cell_type": "code",
   "execution_count": 3,
   "metadata": {
    "vscode": {
     "languageId": "java"
    }
   },
   "outputs": [],
   "source": [
    "public static boolean isDiverse(int[][] arr2D) {\n",
    "    int[] sums = rowSums(arr2D);\n",
    "    for (int i=0; i < sums.length; i++) {\n",
    "        for (int j=i+1; j < sums.length; j++) {\n",
    "            if (sums[i] == sums[j]) {\n",
    "                return false;\n",
    "            }\n",
    "        }\n",
    "    }\n",
    "    return true;\n",
    "}"
   ]
  },
  {
   "cell_type": "code",
   "execution_count": null,
   "metadata": {
    "vscode": {
     "languageId": "java"
    }
   },
   "outputs": [
    {
     "name": "stdout",
     "output_type": "stream",
     "text": [
      "Sum of array: 16\n",
      "Row sums: [16, 32, 20]\n",
      "Is diverse: true\n"
     ]
    }
   ],
   "source": [
    "int[] testArray = {1,3,2,7,3};\n",
    "System.out.println(\"Sum of array: \" + arraySum(testArray)); // expected: 16\n",
    "\n",
    "int[][] test2DArray = {\n",
    "    {1,3,2,7,3},\n",
    "    {10,10,4,6,2},\n",
    "    {7,6,4,2,1}\n",
    "};\n",
    "int[] rowSumsResult = rowSums(test2DArray);\n",
    "System.out.println(\"Row sums: \" + Arrays.toString(rowSumsResult)); // Expected: [16,32,20]\n",
    "\n",
    "System.out.println(\"Is diverse: \" + isDiverse(test2DArray)); // Expected: true"
   ]
  },
  {
   "cell_type": "markdown",
   "metadata": {},
   "source": [
    "## 2."
   ]
  },
  {
   "cell_type": "code",
   "execution_count": 4,
   "metadata": {
    "vscode": {
     "languageId": "java"
    }
   },
   "outputs": [
    {
     "ename": "IncompleteSourceException",
     "evalue": "public class",
     "output_type": "error",
     "traceback": [
      "\u001b[1m\u001b[31mIncomplete input:\u001b[0m",
      "\u001b[1m\u001b[30m|   \u001b[1m\u001b[30mpublic class\u001b[0m"
     ]
    }
   ],
   "source": [
    "public class "
   ]
  }
 ],
 "metadata": {
  "kernelspec": {
   "display_name": "Java",
   "language": "java",
   "name": "java"
  },
  "language_info": {
   "codemirror_mode": "java",
   "file_extension": ".jshell",
   "mimetype": "text/x-java-source",
   "name": "Java",
   "pygments_lexer": "java",
   "version": "17.0.12+8-LTS-286"
  }
 },
 "nbformat": 4,
 "nbformat_minor": 2
}
