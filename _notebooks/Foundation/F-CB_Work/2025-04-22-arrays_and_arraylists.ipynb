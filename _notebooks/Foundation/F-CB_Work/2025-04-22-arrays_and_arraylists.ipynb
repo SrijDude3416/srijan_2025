{
 "cells": [
  {
   "cell_type": "markdown",
   "id": "3c9872d5",
   "metadata": {},
   "source": [
    "---\n",
    "toc: true \n",
    "comments: True \n",
    "layout: post \n",
    "title: FRQ Type 1\n",
    "description: Methods and Control Structures\n",
    "type: collab\n",
    "permalink: /cbwork/arrays\n",
    "courses: { csa: {week: 12} }\n",
    "---"
   ]
  },
  {
   "cell_type": "markdown",
   "id": "5cd1cb7e",
   "metadata": {},
   "source": [
    "# Conquering Arrays and ArrayLists in AP CSA FRQs\n",
    "\n",
    "Another major FRQ category on the AP CSA exam involves arrays and ArrayLists. These questions usually ask me to loop through a collection, do some processing, and possibly return a result.\n",
    "\n",
    "## What I usually see in these\n",
    "\n",
    "- Iterating through arrays or ArrayLists\n",
    "- Accessing and modifying elements\n",
    "- Adding or removing elements in ArrayLists\n",
    "- Returning summary data (like counts or totals)\n",
    "\n",
    "## How I handle them\n",
    "\n",
    "When I see an array or ArrayList problem, I immediately think about how I'm going to loop through it. I ask myself: do I need the index, or is a for-each loop enough?\n",
    "\n",
    "Some things I try to keep in mind:\n",
    "\n",
    "- If I need to remove items from an ArrayList while looping, I use a regular `for` loop, not a for-each loop.\n",
    "- I avoid going out of bounds by double-checking my loop conditions.\n",
    "- I think about edge cases, like empty arrays or lists with only one element.\n",
    "- I don't forget to return something at the end, especially if the prompt says so explicitly.\n",
    "\n",
    "With enough practice, these questions start to feel more predictable.\n"
   ]
  }
 ],
 "metadata": {
  "language_info": {
   "name": "python"
  }
 },
 "nbformat": 4,
 "nbformat_minor": 5
}
