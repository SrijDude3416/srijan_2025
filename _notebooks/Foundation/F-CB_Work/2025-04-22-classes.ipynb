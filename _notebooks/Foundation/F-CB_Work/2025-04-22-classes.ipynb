{
 "cells": [
  {
   "cell_type": "markdown",
   "id": "3c9872d5",
   "metadata": {},
   "source": [
    "---\n",
    "toc: true \n",
    "comments: True \n",
    "layout: post \n",
    "title: FRQ Type 1\n",
    "description: Methods and Control Structures\n",
    "type: collab\n",
    "permalink: /cbwork/classes\n",
    "courses: { csa: {week: 12} }\n",
    "---"
   ]
  },
  {
   "cell_type": "markdown",
   "id": "5cd1cb7e",
   "metadata": {},
   "source": [
    "# Mastering Class FRQs on the AP CSA Exam\n",
    "\n",
    "Class FRQs are all about object-oriented programming. These usually show up as FRQ 2, and they test whether I understand how to design and implement classes properly. That means writing constructors, working with instance variables, and adding methods like getters and setters.\n",
    "\n",
    "## What these questions ask for\n",
    "\n",
    "- Defining classes from scratch or completing them\n",
    "- Writing constructors\n",
    "- Managing instance variables\n",
    "- Writing `get` and `set` methods\n",
    "- Using `this` appropriately\n",
    "\n",
    "## My strategy\n",
    "\n",
    "I always start by identifying what fields the class needs. Then, I check whether any methods or constructors are already written. If I'm writing the constructor, I make sure to initialize every instance variable, even if it's just to a default value.\n",
    "\n",
    "A few key things I focus on:\n",
    "\n",
    "- Matching constructor parameters to instance variables\n",
    "- Using `this.variable` when there’s a name conflict\n",
    "- Keeping all instance variables `private` and all methods `public` (unless told otherwise)\n",
    "- Making sure every method does exactly what the prompt says—no more, no less\n",
    "\n",
    "Class FRQs can look intimidating at first, but once I get into the habit of building classes step-by-step, they start to feel routine.\n"
   ]
  }
 ],
 "metadata": {
  "language_info": {
   "name": "python"
  }
 },
 "nbformat": 4,
 "nbformat_minor": 5
}
