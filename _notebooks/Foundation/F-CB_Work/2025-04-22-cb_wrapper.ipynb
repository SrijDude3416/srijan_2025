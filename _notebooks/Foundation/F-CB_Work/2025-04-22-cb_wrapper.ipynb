{
 "cells": [
  {
   "cell_type": "markdown",
   "id": "a3d140c3",
   "metadata": {},
   "source": [
    "---\n",
    "toc: true \n",
    "comments: True \n",
    "layout: post \n",
    "title: CollegeBoard Work\n",
    "description: Studying for the amazingly fun CB Exam\n",
    "type: collab\n",
    "permalink: /cbwork \n",
    "courses: { csa: {week: 12} }\n",
    "---"
   ]
  },
  {
   "cell_type": "markdown",
   "id": "29276556",
   "metadata": {},
   "source": [
    "## Roadmap:\n",
    "\n",
    "# AP CSA Exam Prep Plan (FRQs + MCQs)\n",
    "\n",
    "**Test Date**: May 7th  \n",
    "**Goal**: Complete ~6 official FRQs and MCQs total before the exam.\n",
    "\n",
    "---\n",
    "\n",
    "## Weekly Roadmap\n",
    "\n",
    "### Week of April 22–28\n",
    "- **FRQs**: Do 2016 + 2017\n",
    "- **MCQs**: Do 2016 (use similar practice if official isn't available)\n",
    "\n",
    "### Week of April 29–May 5\n",
    "- **FRQs**: Do 2018 + 2021\n",
    "- **MCQs**: Focus on Units 2, 6, and 10 by getting problems from question bank\n",
    "\n",
    "---\n",
    "\n",
    "## Final Review (May 6)\n",
    "- Redo 1 FRQ I missed\n",
    "- Do 10 mixed MCQs from old sets\n",
    "- Chill\n",
    "\n",
    "---\n",
    "\n",
    "## Understanding the Types of FRQs:\n",
    "\n",
    "#### Methods and Control Structures: [Explanation]({{site.baseurl}}/cbwork/mcas)\n",
    "\n",
    "Relevant Lessons: [Methods]({{site.baseurl}}/methods_per3/introduction)\n",
    "\n",
    "#### Arrays and Arraylists: [Explanation]({{site.baseurl}}/cbwork/)\n",
    "\n",
    "Relevant Lessons: [Arrays]({{site.baseurl}}/arrays)\n",
    "\n",
    "#### Classes: [Explanation]({{site.baseurl}}/cbwork/classes)\n",
    "\n",
    "Relevant Lessons: [Classes]({{site.baseurl}}/period3/frq/classes)\n",
    "\n",
    "#### 2D Arrays: [Explanation]({{site.baseurl}}/cbwork/twodimarrays)\n",
    "\n",
    "Relevant Lessons: [2D Arrays]({{site.baseurl}}/csa/frqs/p3/2darrays2/refresher)\n",
    "\n",
    "## Resources\n",
    "- [FRQs](https://apcentral.collegeboard.org/courses/ap-computer-science-a/exam/past-exam-questions)\n",
    "- MCQs: Ask on a quiz-by-quiz basis to release on CB"
   ]
  },
  {
   "cell_type": "markdown",
   "id": "fd16513e",
   "metadata": {},
   "source": [
    "## FRQs\n"
   ]
  },
  {
   "cell_type": "markdown",
   "id": "299b00d7",
   "metadata": {},
   "source": [
    "\n",
    "\n",
    "| Year | Free Response Questions | Blog Link | Score | Completed |\n",
    "|------|-------------------------|-----------|-------|-----------|\n",
    "| 2011 | [FRQs](https://secure-media.collegeboard.org/apc/ap11_frq_comp_sci_a.pdf) |  |    | No        |\n",
    "| 2012 | [FRQs](https://secure-media.collegeboard.org/apc/ap_frq_computerscience_12.pdf) |  |    | No        |\n",
    "| 2013 | [FRQs](https://secure-media.collegeboard.org/digitalServices/pdf/ap/apcentral/ap13_frq_comp_sci.pdf) |  |    | No        |\n",
    "| 2014 | [FRQs](https://secure-media.collegeboard.org/digitalServices/pdf/ap/ap14_frq_computer_science_a.pdf) | |    | No        |\n",
    "| 2015 | [FRQs](https://secure-media.collegeboard.org/digitalServices/pdf/ap/ap15_frq_computer_science_a.pdf) | [Work]({{site.baseurl}}/cbwork/2015-frqs) | 27/36 = 75%     | Yes        |\n",
    "| 2016 | [FRQs](https://secure-media.collegeboard.org/digitalServices/pdf/ap/ap16_frq_computer_science_a.pdf) | [Work]({{site.baseurl}}/cbwork/2016-frqs) |    | In Progress        |\n",
    "| 2017 | [FRQs](https://apcentral.collegeboard.org/media/pdf/ap-computer-science-a-frq-2017.pdf) |  |    | No        |\n",
    "| 2018 | [FRQs](https://secure-media.collegeboard.org/apc/ap18-frq-computer-science-a.pdf) |  |    | No        |\n",
    "| 2019 | [FRQs](https://apcentral.collegeboard.org/media/pdf/ap19-frq-computer-science-a.pdf) |  |    | No        |\n",
    "| 2021 | [FRQs](https://apcentral.collegeboard.org/media/pdf/ap21-frq-computer-science-a.pdf) |  |    | No        |\n",
    "| 2022 | [FRQs](https://apcentral.collegeboard.org/media/pdf/ap22-frq-computer-science-a.pdf) |  |    | No        |\n",
    "| 2023 | [FRQs](https://apcentral.collegeboard.org/media/pdf/ap23-frq-comp-sci-a.pdf) |  |    | No        |\n",
    "| 2024 | [FRQs](https://apcentral.collegeboard.org/media/pdf/ap24-frq-comp-sci-a.pdf) |  |    | No        |\n"
   ]
  },
  {
   "cell_type": "markdown",
   "id": "a630d086",
   "metadata": {},
   "source": [
    "## MCQs"
   ]
  },
  {
   "cell_type": "markdown",
   "id": "b4831d3f",
   "metadata": {},
   "source": [
    "\n",
    "\n",
    "| Year | Blog Link      | Score | Completed |\n",
    "|------|---------------|-------|-----------|\n",
    "| 2011 |               |       | No        |\n",
    "| 2012 |               |       | No        |\n",
    "| 2013 |               |       | No        |\n",
    "| 2014 | [Analysis]({{site.baseurl}}/cbwork/2014-mcq)     |   25/40  | Yes       |\n",
    "| 2015 | [Analysis]({{site.baseurl}}/cbwork/2015-mcq)     |    33/39   | Yes       |\n",
    "| 2016 |               |       | No        |\n",
    "| 2017 |               |       | No        |\n",
    "| 2018 |               |       | No        |\n",
    "| 2019 |               |       | No        |\n",
    "| 2020 | Coming Soon     |   24/40   | Yes       |\n",
    "| 2021 |               |       | No        |\n",
    "| 2022 |               |       | No        |\n",
    "| 2023 |               |       | No        |\n",
    "| 2024 |               |       | No        |"
   ]
  }
 ],
 "metadata": {
  "kernelspec": {
   "display_name": "Java",
   "language": "java",
   "name": "java"
  },
  "language_info": {
   "name": "java"
  }
 },
 "nbformat": 4,
 "nbformat_minor": 5
}
