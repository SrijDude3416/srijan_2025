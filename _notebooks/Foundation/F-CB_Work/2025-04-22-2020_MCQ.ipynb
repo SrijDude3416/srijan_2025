{
 "cells": [
  {
   "cell_type": "markdown",
   "id": "fe1f6ccf",
   "metadata": {},
   "source": [
    "---\n",
    "toc: true \n",
    "comments: True \n",
    "layout: post \n",
    "title: CollegeBoard MCQ Review\n",
    "description: Reviewing and fixing everything I got wrong on CSA CB MCQ 2020\n",
    "type: collab\n",
    "permalink: /cbwork/2020-mcq\n",
    "courses: { csa: {week: 12} }\n",
    "---"
   ]
  },
  {
   "cell_type": "markdown",
   "id": "523d6c59",
   "metadata": {},
   "source": []
  }
 ],
 "metadata": {
  "language_info": {
   "name": "python"
  }
 },
 "nbformat": 4,
 "nbformat_minor": 5
}
