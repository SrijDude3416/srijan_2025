{
 "cells": [
  {
   "cell_type": "markdown",
   "id": "3c9872d5",
   "metadata": {},
   "source": [
    "---\n",
    "toc: true \n",
    "comments: True \n",
    "layout: post \n",
    "title: FRQ Type 1\n",
    "description: Methods and Control Structures\n",
    "type: collab\n",
    "permalink: /cbwork/twodimarrays\n",
    "courses: { csa: {week: 12} }\n",
    "---"
   ]
  },
  {
   "cell_type": "markdown",
   "id": "5cd1cb7e",
   "metadata": {},
   "source": [
    "# Breaking Down 2D Array FRQs in AP CSA\n",
    "\n",
    "2D arrays can feel a bit trickier than 1D arrays, but once I understood the structure, these FRQs became a lot more manageable. These questions usually involve nested loops to go through rows and columns.\n",
    "\n",
    "## What these questions usually cover\n",
    "\n",
    "- Accessing elements using `array[row][col]`\n",
    "- Looping through rows and columns with nested loops\n",
    "- Performing calculations across rows, columns, or diagonals\n",
    "- Modifying elements based on certain conditions\n",
    "\n",
    "## My approach\n",
    "\n",
    "First, I make sure I understand how the 2D array is organized. I often write out a sample 2D array to visualize the structure. Then, I set up nested `for` loops: one for rows and one for columns.\n",
    "\n",
    "Here’s what I try to be careful about:\n",
    "\n",
    "- Remembering that `array.length` gives me the number of rows, and `array[row].length` gives me the number of columns\n",
    "- Keeping my indices straight—`array[i][j]` means row `i`, column `j`\n",
    "- Thinking through edge cases, like arrays with different row lengths (though those are less common in AP FRQs)\n",
    "- Double-checking whether the prompt wants me to modify the array or just read from it\n",
    "\n",
    "If I keep things organized and step through it logically, 2D array FRQs become a lot easier to manage.\n"
   ]
  }
 ],
 "metadata": {
  "language_info": {
   "name": "python"
  }
 },
 "nbformat": 4,
 "nbformat_minor": 5
}
