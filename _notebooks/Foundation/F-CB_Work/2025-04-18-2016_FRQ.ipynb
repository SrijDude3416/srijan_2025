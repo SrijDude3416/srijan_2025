{
 "cells": [
  {
   "cell_type": "markdown",
   "id": "9552dd9f",
   "metadata": {},
   "source": [
    "---\n",
    "layout: post\n",
    "title:  2015 FRQ College Board Work\n",
    "description: Responses and Reflection to 2016 CB FRQs\n",
    "type: collab\n",
    "permalink: /cbwork/2016-frqs\n",
    "courses: { csa: {week: 24} }\n",
    "comments: true\n",
    "---"
   ]
  },
  {
   "cell_type": "markdown",
   "id": "bfb4eb16",
   "metadata": {},
   "source": [
    "## 1. (7/9)\n",
    "### TYPE: Unsure between Methods and Control Structures or Arrays/Arraylists"
   ]
  },
  {
   "cell_type": "markdown",
   "id": "b91cee8f",
   "metadata": {},
   "source": [
    "### a. (7/7)"
   ]
  },
  {
   "cell_type": "code",
   "execution_count": null,
   "id": "e04823b9",
   "metadata": {
    "vscode": {
     "languageId": "java"
    }
   },
   "outputs": [],
   "source": [
    "public class RandomStringChooser \n",
    "{\n",
    "    private List<String> words;\n",
    "\n",
    "    public RandomStringChooser(String[] wordArr) {\n",
    "        words = new ArrayList<String>();\n",
    "\n",
    "        for (String word : wordArray) {\n",
    "            words.add(word);\n",
    "        }\n",
    "    }\n",
    "\n",
    "    public String getNext() {\n",
    "        if (words.size() > 0) {\n",
    "            return words.remove((int)(Math.random() * words.size()));\n",
    "        } else {\n",
    "            return \"NONE\";\n",
    "        }\n",
    "    }\n",
    "}"
   ]
  },
  {
   "cell_type": "markdown",
   "id": "8a828033",
   "metadata": {},
   "source": [
    "### b. (0/2)\n",
    "Didn't know how to do this so I consulted the answer"
   ]
  },
  {
   "cell_type": "code",
   "execution_count": null,
   "id": "aeb514eb",
   "metadata": {
    "vscode": {
     "languageId": "java"
    }
   },
   "outputs": [],
   "source": [
    "public class RandomLetterChooser extends RandomStringChooser \n",
    "{\n",
    "    public RandomLetterChooser(String str) {\n",
    "        super(getSingleLetters(str));\n",
    "    }\n",
    "\n",
    "    //not sure how to test because the implementation for getSingleLetters isn't given\n",
    "}"
   ]
  },
  {
   "cell_type": "markdown",
   "id": "32703e80",
   "metadata": {},
   "source": [
    "#### TEST"
   ]
  },
  {
   "cell_type": "code",
   "execution_count": null,
   "id": "b7790171",
   "metadata": {
    "vscode": {
     "languageId": "java"
    }
   },
   "outputs": [],
   "source": [
    "// Test part a\n",
    "\n",
    "String[] wordArray = {\"wheels\", \"on\", \"the\", \"bus\"};\n",
    "RandomStringChooser sChooser = new RandomStringChooser(wordArray);\n",
    "for (int k=0; k<6; k++) {\n",
    "    System.out.println(sChooser.getNext() + \" \");\n",
    "}\n",
    "\n",
    "// Test part b (Not sure how to because getSingleLetters isn't given)\n",
    "\n",
    "// RandomLetterChooser letterChooser = new RandomLetterChooser(\"cat\");\n",
    "// for (int k=0; k<4; k++) {\n",
    "//     System.out.println(letterChooser.getNext());\n",
    "// }"
   ]
  }
 ],
 "metadata": {
  "kernelspec": {
   "display_name": "Java",
   "language": "java",
   "name": "java"
  },
  "language_info": {
   "codemirror_mode": "java",
   "file_extension": ".jshell",
   "mimetype": "text/x-java-source",
   "name": "Java",
   "pygments_lexer": "java",
   "version": "17.0.12+8-LTS-286"
  }
 },
 "nbformat": 4,
 "nbformat_minor": 5
}
