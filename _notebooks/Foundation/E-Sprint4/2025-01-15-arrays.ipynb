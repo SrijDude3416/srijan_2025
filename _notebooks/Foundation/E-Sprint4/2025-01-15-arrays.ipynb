{
 "cells": [
  {
   "cell_type": "markdown",
   "metadata": {},
   "source": [
    "---\n",
    "toc: True\n",
    "comments: True\n",
    "layout: post\n",
    "title: Array HW\n",
    "description: Curious about peanut butter? This is the place for you.\n",
    "type: ccc\n",
    "permalink: arrays\n",
    "courses: { csa: {week: 0} }\n",
    "---"
   ]
  },
  {
   "cell_type": "markdown",
   "metadata": {},
   "source": [
    "## Warmup Sorting an ArrayList"
   ]
  },
  {
   "cell_type": "code",
   "execution_count": 2,
   "metadata": {
    "vscode": {
     "languageId": "java"
    }
   },
   "outputs": [
    {
     "name": "stdout",
     "output_type": "stream",
     "text": [
      "[1, 2, 4, 6, 9]\n"
     ]
    }
   ],
   "source": [
    "import java.util.ArrayList;\n",
    "import java.util.Collections;\n",
    "ArrayList<Integer> list = new ArrayList<Integer>();\n",
    "\n",
    "list.add(6);\n",
    "list.add(4);\n",
    "list.add(2);\n",
    "list.add(9);\n",
    "list.add(1);\n",
    "\n",
    "Collections.sort(list);\n",
    "System.out.println(list);"
   ]
  },
  {
   "cell_type": "markdown",
   "metadata": {},
   "source": [
    "## Homework"
   ]
  },
  {
   "cell_type": "code",
   "execution_count": 13,
   "metadata": {
    "vscode": {
     "languageId": "java"
    }
   },
   "outputs": [
    {
     "name": "stdout",
     "output_type": "stream",
     "text": [
      "Enter the array size n: The random array is:\n",
      "11101\n",
      "10011\n",
      "00001\n",
      "11001\n",
      "01000\n",
      "The largest row index: [0]\n",
      "The largest column index: [4]\n"
     ]
    }
   ],
   "source": [
    "import java.util.ArrayList;\n",
    "import java.util.Random;\n",
    "import java.util.Scanner;\n",
    "\n",
    "\n",
    "Scanner input = new Scanner(System.in);\n",
    "\n",
    "System.out.print(\"Enter the array size n: \");\n",
    "int arraySize = input.nextInt();\n",
    "\n",
    "int[][] matrix = new int[arraySize][arraySize];\n",
    "Random rand = new Random();\n",
    "\n",
    "System.out.println(\"The random array is:\");\n",
    "for (int i = 0; i < arraySize; i++) {\n",
    "    for (int j = 0; j < arraySize; j++) {\n",
    "        matrix[i][j] = rand.nextInt(2); \n",
    "        System.out.print(matrix[i][j]);\n",
    "    }\n",
    "    System.out.println();\n",
    "}\n",
    "\n",
    "int[] rowCounts = new int[arraySize];\n",
    "int[] colCounts = new int[arraySize];\n",
    "\n",
    "for (int i = 0; i < arraySize; i++) {\n",
    "    for (int j = 0; j < arraySize; j++) {\n",
    "        if (matrix[i][j] == 1) {\n",
    "            rowCounts[i]++;\n",
    "            colCounts[j]++;\n",
    "        }\n",
    "    }\n",
    "}\n",
    "\n",
    "int maxRowCount = 0;\n",
    "for (int count : rowCounts) {\n",
    "    maxRowCount = Math.max(maxRowCount, count);\n",
    "}\n",
    "\n",
    "int maxColCount = 0;\n",
    "for (int count : colCounts) {\n",
    "    maxColCount = Math.max(maxColCount, count);\n",
    "}\n",
    "\n",
    "ArrayList<Integer> maxRows = new ArrayList<>();\n",
    "for (int i = 0; i < rowCounts.length; i++) {\n",
    "    if (rowCounts[i] == maxRowCount) {\n",
    "        maxRows.add(i);\n",
    "    }\n",
    "}\n",
    "\n",
    "ArrayList<Integer> maxCols = new ArrayList<>();\n",
    "for (int i = 0; i < colCounts.length; i++) {\n",
    "    if (colCounts[i] == maxColCount) {\n",
    "        maxCols.add(i);\n",
    "    }\n",
    "}\n",
    "System.out.println(\"The largest row index: \" + maxRows);\n",
    "System.out.println(\"The largest column index: \" + maxCols);\n"
   ]
  }
 ],
 "metadata": {
  "kernelspec": {
   "display_name": "Java",
   "language": "java",
   "name": "java"
  },
  "language_info": {
   "codemirror_mode": "java",
   "file_extension": ".jshell",
   "mimetype": "text/x-java-source",
   "name": "Java",
   "pygments_lexer": "java",
   "version": "17.0.13+11-Ubuntu-2ubuntu122.04"
  }
 },
 "nbformat": 4,
 "nbformat_minor": 2
}
