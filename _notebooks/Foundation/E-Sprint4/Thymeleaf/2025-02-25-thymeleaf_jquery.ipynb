{
 "cells": [
  {
   "cell_type": "markdown",
   "metadata": {},
   "source": [
    "---\n",
    "toc: True\n",
    "comments: True\n",
    "layout: post\n",
    "title: Thymeleaf/JQuery HW\n",
    "description: Curious about peanut butter? This is the place for you.\n",
    "type: ccc\n",
    "permalink: thymeleaf\n",
    "courses: { csa: {week: 0} }\n",
    "---"
   ]
  },
  {
   "cell_type": "markdown",
   "metadata": {},
   "source": [
    "## Popcorn Hack #1\n",
    "Write in one of the comments where the selector is."
   ]
  },
  {
   "cell_type": "code",
   "execution_count": null,
   "metadata": {
    "vscode": {
     "languageId": "javascript"
    }
   },
   "outputs": [],
   "source": [
    "$(document).ready(function(){     // \n",
    "    $(\"button\").click(function(){ //This line is a selector, selects all of the button lements\n",
    "      $(\"p\").hide();              //This one is also a selecor, selects all of the p elements\n",
    "    });                           //\n",
    "  });                             //"
   ]
  },
  {
   "cell_type": "markdown",
   "metadata": {},
   "source": [
    "## Homework"
   ]
  },
  {
   "cell_type": "markdown",
   "metadata": {},
   "source": [
    "### Q1"
   ]
  },
  {
   "cell_type": "code",
   "execution_count": null,
   "metadata": {
    "vscode": {
     "languageId": "html"
    }
   },
   "outputs": [],
   "source": [
    "<input type=\"text\" id=\"userInput\" placeholder=\"Type here pls\">\n",
    "    <button id=\"updateBtn\">Update Text</button>\n",
    "    <p id=\"outputText\">Check this out. It's going to be updated</p>\n",
    "\n",
    "    <script>\n",
    "        $(document).ready(function(){\n",
    "            $(\"#updateBtn\").click(function(){\n",
    "                let userInput = $(\"#userInput\").val(); \n",
    "                $(\"#outputText\").text(userInput);\n",
    "            });\n",
    "        });\n",
    "    </script>"
   ]
  },
  {
   "cell_type": "markdown",
   "metadata": {},
   "source": [
    "### Question 2"
   ]
  },
  {
   "cell_type": "code",
   "execution_count": null,
   "metadata": {
    "vscode": {
     "languageId": "html"
    }
   },
   "outputs": [],
   "source": [
    "\n",
    "<h2>Student List</h2>\n",
    "<table border=\"1\">\n",
    "    <thead>\n",
    "        <tr>\n",
    "            <th>Name</th>\n",
    "            <th>Grade</th>\n",
    "            <th>Status</th>\n",
    "        </tr>\n",
    "    </thead>\n",
    "    <tbody>\n",
    "        <tr th:each=\"student : ${students}\">\n",
    "            <td th:text=\"${student.name}\"></td>\n",
    "            <td th:text=\"${student.grade}\"></td>\n",
    "            <td th:text=\"${student.status ? 'Passed' : 'Failed'}\"></td>\n",
    "        </tr>\n",
    "    </tbody>\n",
    "</table>\n"
   ]
  }
 ],
 "metadata": {
  "language_info": {
   "name": "python"
  }
 },
 "nbformat": 4,
 "nbformat_minor": 2
}
