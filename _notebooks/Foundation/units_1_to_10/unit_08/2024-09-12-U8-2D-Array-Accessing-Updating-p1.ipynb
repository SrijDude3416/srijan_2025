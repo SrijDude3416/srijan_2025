{
 "cells": [
  {
   "cell_type": "raw",
   "metadata": {
    "vscode": {
     "languageId": "raw"
    }
   },
   "source": [
    "---\n",
    "layout: post\n",
    "toc: true\n",
    "title: Unit 8 - 2D Arrays Accessing and Updating\n",
    "description: 2D Arrays Lesson\n",
    "authors: Anusha Khobare\n",
    "categories: [AP CSA]\n",
    "type: ccc\n",
    "permalink: /unit8lesson-p1-accessing-updating\n",
    "menu: nav/CSA_Units/csa_unit8_p1.html\n",
    "---"
   ]
  },
  {
   "cell_type": "markdown",
   "metadata": {},
   "source": [
    "## Accessing and updating the values of a 2D array\n",
    "In Java, accessing and updating values in a 2D array is done using the row and column indices. The general format is:\n",
    "\n",
    "~~~\n",
    "- **Accessing a value**: array[row][column]\n",
    "- **Updating a value**: array[row][column] = newValue;\n",
    "~~~\n",
    "\n",
    "![image](https://github.com/user-attachments/assets/b1f79b97-f81b-4ea5-951d-5c098fae0767)\n"
   ]
  },
  {
   "cell_type": "markdown",
   "metadata": {},
   "source": [
    "### Popcorn Hack 1 (Part 2)\n",
    "- **Update the values of the array, you made in part 1 to the group members in another group**"
   ]
  },
  {
   "cell_type": "code",
   "execution_count": 5,
   "metadata": {},
   "outputs": [
    {
     "name": "stdout",
     "output_type": "stream",
     "text": [
      "Original:\n"
     ]
    },
    {
     "name": "stdout",
     "output_type": "stream",
     "text": [
      "Srijan Ian \n",
      "Jon Tarun \n",
      "\n",
      "Modified:\n",
      "Tanav Saathvik \n",
      "Sri Aidan \n"
     ]
    }
   ],
   "source": [
    "String[][] groupNames = new String[2][2];\n",
    "\n",
    "System.out.println(\"Original:\");\n",
    "groupNames[0][0] = \"Srijan\";\n",
    "groupNames[0][1] = \"Ian\";\n",
    "groupNames[1][0] = \"Jon\";\n",
    "groupNames[1][1] = \"Tarun\";\n",
    "\n",
    "\n",
    "for(int i = 0; i < groupNames.length; i++) {\n",
    "    for (int j = 0; j < groupNames[i].length; j++) {\n",
    "        System.out.print(groupNames[i][j] + \" \");\n",
    "    }\n",
    "    System.out.println();\n",
    "}\n",
    "\n",
    "// Modified:\n",
    "\n",
    "groupNames[0][0] = \"Tanav\";\n",
    "groupNames[0][1] = \"Saathvik\";\n",
    "groupNames[1][0] = \"Sri\";\n",
    "groupNames[1][1] = \"Aidan\";\n",
    "\n",
    "System.out.println();\n",
    "System.out.println(\"Modified:\");\n",
    "\n",
    "for(int i = 0; i < groupNames.length; i++) {\n",
    "    for (int j = 0; j < groupNames[i].length; j++) {\n",
    "        System.out.print(groupNames[i][j] + \" \");\n",
    "    }\n",
    "    System.out.println();\n",
    "}"
   ]
  }
 ],
 "metadata": {
  "kernelspec": {
   "display_name": "Java",
   "language": "java",
   "name": "java"
  },
  "language_info": {
   "codemirror_mode": "java",
   "file_extension": ".jshell",
   "mimetype": "text/x-java-source",
   "name": "java",
   "pygments_lexer": "java",
   "version": "17.0.12+7-Ubuntu-1ubuntu222.04"
  },
  "orig_nbformat": 4
 },
 "nbformat": 4,
 "nbformat_minor": 2
}
