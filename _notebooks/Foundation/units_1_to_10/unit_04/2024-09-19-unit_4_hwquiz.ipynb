{
 "cells": [
  {
   "cell_type": "markdown",
   "metadata": {},
   "source": [
    "---\n",
    "layout: post\n",
    "type: collab\n",
    "title: Unit 4 - HW Quiz\n",
    "description: Unit 4 Team Teach HW QUIZ\n",
    "comments: true\n",
    "permalink: /csa/unit4/homework\n",
    "menu: nav/CSA_Units/csa_unit4_p1.html\n",
    "author: hanlun, saaras, arthur, miheer, eshaan, beijan\n",
    "---"
   ]
  },
  {
   "cell_type": "markdown",
   "metadata": {},
   "source": [
    "## Unit 4 - Iteration:\n",
    "- This is the homework quiz for unit 4, iterations\n",
    "- 4 multiple choice questions\n",
    "- 2 programming hacks\n",
    "- 1 bonus programming hack (required to get above 0.9)"
   ]
  },
  {
   "cell_type": "markdown",
   "metadata": {},
   "source": [
    "### Question 1:\n",
    "What does the following code print?   \n",
    "\n",
    "A. 5 6 7 8 9   \n",
    "\n",
    "B. 4 5 6 7 8 9 10 11 12   \n",
    "\n",
    "C. 3 5 7 9 11   \n",
    "\n",
    "D. 3 4 5 6 7 8 9 10 11 12   \n",
    "\n",
    "<details>\n",
    "<summary>Click to reveal answer:</summary> \n",
    "  D\n",
    "</details>\n",
    "\n",
    "Explain your answer. (explanation is graded not answer)"
   ]
  },
  {
   "cell_type": "code",
   "execution_count": null,
   "metadata": {},
   "outputs": [],
   "source": [
    "for (int i = 3; i <= 12; i++) {\n",
    "   System.out.print(i + \" \");\n",
    "}"
   ]
  },
  {
   "cell_type": "markdown",
   "metadata": {},
   "source": [
    "(D) is the answer because the code iterates from i=3 until it gets to a point where it is no longer less than or equal to 12. This means that the code would start printing at 3 and only end at 12. Because the incrememnt is only 1, this also means that it will go one by one until 12."
   ]
  },
  {
   "cell_type": "markdown",
   "metadata": {},
   "source": [
    "### Bonus:\n",
    "- Explain the difference between using a variable like i inside a for loop, vs. using a variable that exists in the code itself for a while loop"
   ]
  },
  {
   "cell_type": "markdown",
   "metadata": {},
   "source": [
    "For a while loop where the variable exists in the code itself, we have to manually handle incrementing the variable within our loop whereas in a for-loop, it is handled for us."
   ]
  },
  {
   "cell_type": "markdown",
   "metadata": {},
   "source": [
    "### Question 2:\n",
    "How many times does the following method print a \"*\" ?\n",
    "\n",
    "A. 9\n",
    "\n",
    "B. 7\n",
    "\n",
    "C. 8\n",
    "\n",
    "D. 6\n",
    "\n",
    "<details>\n",
    "<summary>Click to reveal answer:</summary> \n",
    "  C\n",
    "</details>\n",
    "\n",
    "Explain your answer. (explanation is graded not answer)"
   ]
  },
  {
   "cell_type": "code",
   "execution_count": null,
   "metadata": {},
   "outputs": [],
   "source": [
    "for (int i = 3; i < 11; i++) {\n",
    "   System.out.print(\"*\");\n",
    "}"
   ]
  },
  {
   "cell_type": "markdown",
   "metadata": {},
   "source": [
    "(C) the code will print \"*\" 8 times because it will go from 3-11 not including 11 which would give us a total amount of 11-3 = 8."
   ]
  },
  {
   "cell_type": "markdown",
   "metadata": {},
   "source": [
    "### Question 3:\n",
    "What does the following code print?\n",
    "\n",
    "A. -4 -3 -2 -1 0\n",
    "\n",
    "B. -5 -4 -3 -2 -1\n",
    "\n",
    "C. 5 4 3 2 1\n",
    "\n",
    "<details>\n",
    "<summary>Click to reveal answer:</summary> \n",
    "  A\n",
    "</details>\n",
    "\n",
    "Explain your answer. (explanation is graded not answer)"
   ]
  },
  {
   "cell_type": "code",
   "execution_count": null,
   "metadata": {},
   "outputs": [],
   "source": [
    "int x = -5;\n",
    "while (x < 0)\n",
    "{\n",
    "   x++;\n",
    "   System.out.print(x + \" \");\n",
    "}"
   ]
  },
  {
   "cell_type": "markdown",
   "metadata": {},
   "source": [
    "(A) Although our x variable is defined as -5, because the while loop increments x by +1 before printing for the first time, the code will start printing at -4 and go till 0 because x is not 0 before the last increment."
   ]
  },
  {
   "cell_type": "markdown",
   "metadata": {},
   "source": [
    "### Question 4:\n",
    "What does the following code print?\n",
    "\n",
    "A. 20\n",
    "\n",
    "B. 21\n",
    "\n",
    "C. 25\n",
    "\n",
    "D. 30\n",
    "\n",
    "<details>\n",
    "<summary>Click to reveal answer:</summary> \n",
    "  B\n",
    "</details>\n",
    "\n",
    "Explain your answer. (explanation is graded not answer)"
   ]
  },
  {
   "cell_type": "code",
   "execution_count": null,
   "metadata": {},
   "outputs": [],
   "source": [
    "int sum = 0;\n",
    "\n",
    "for (int i = 1; i <= 5; i++) {\n",
    "    if (i % 2 == 0) {\n",
    "        sum += i * 2;\n",
    "    } else {\n",
    "        sum += i;\n",
    "    }\n",
    "}\n",
    "\n",
    "System.out.println(sum);"
   ]
  },
  {
   "cell_type": "markdown",
   "metadata": {},
   "source": [
    "The following code will print (B) or 21 because it will do the following:\n",
    "\n",
    "1+4+3+8+5 = 21"
   ]
  },
  {
   "cell_type": "markdown",
   "metadata": {},
   "source": [
    "## Loops HW Hack"
   ]
  },
  {
   "cell_type": "markdown",
   "metadata": {},
   "source": [
    "### Easy Hack\n",
    "- Use a while loop to find the numbers from 1-50 that are divisible by 3 or 5, then store them into a list (make sure to print it out at the end)\n",
    "- Use a for loop to do the same thing detailed above"
   ]
  },
  {
   "cell_type": "code",
   "execution_count": 9,
   "metadata": {},
   "outputs": [
    {
     "name": "stdout",
     "output_type": "stream",
     "text": [
      "While Loop\n",
      "3 is divisible by 3 or 5\n",
      "5 is divisible by 3 or 5\n",
      "6 is divisible by 3 or 5\n",
      "9 is divisible by 3 or 5\n",
      "10 is divisible by 3 or 5\n",
      "12 is divisible by 3 or 5\n",
      "15 is divisible by 3 or 5\n",
      "18 is divisible by 3 or 5\n",
      "20 is divisible by 3 or 5\n",
      "21 is divisible by 3 or 5\n",
      "24 is divisible by 3 or 5\n",
      "25 is divisible by 3 or 5\n",
      "27 is divisible by 3 or 5\n",
      "30 is divisible by 3 or 5\n",
      "33 is divisible by 3 or 5\n",
      "35 is divisible by 3 or 5\n",
      "36 is divisible by 3 or 5\n",
      "39 is divisible by 3 or 5\n",
      "40 is divisible by 3 or 5\n",
      "42 is divisible by 3 or 5\n",
      "45 is divisible by 3 or 5\n",
      "48 is divisible by 3 or 5\n",
      "50 is divisible by 3 or 5\n",
      "For Loop\n",
      "3 is divisible by 3 or 5\n",
      "5 is divisible by 3 or 5\n",
      "6 is divisible by 3 or 5\n",
      "9 is divisible by 3 or 5\n",
      "10 is divisible by 3 or 5\n",
      "12 is divisible by 3 or 5\n",
      "15 is divisible by 3 or 5\n",
      "18 is divisible by 3 or 5\n",
      "20 is divisible by 3 or 5\n",
      "21 is divisible by 3 or 5\n",
      "24 is divisible by 3 or 5\n",
      "25 is divisible by 3 or 5\n",
      "27 is divisible by 3 or 5\n",
      "30 is divisible by 3 or 5\n",
      "33 is divisible by 3 or 5\n",
      "35 is divisible by 3 or 5\n",
      "36 is divisible by 3 or 5\n",
      "39 is divisible by 3 or 5\n",
      "40 is divisible by 3 or 5\n",
      "42 is divisible by 3 or 5\n",
      "45 is divisible by 3 or 5\n",
      "48 is divisible by 3 or 5\n",
      "50 is divisible by 3 or 5\n"
     ]
    }
   ],
   "source": [
    "int[] numbers_while = new int[50];\n",
    "int[] numbers_for = new int[50];\n",
    "\n",
    "System.out.println(\"While Loop\");\n",
    "int i = 1;\n",
    "while (i<=50) {\n",
    "    if ((i%3) == 0 || (i%5) == 0) {\n",
    "        System.out.println(i + \" is divisible by 3 or 5\");\n",
    "        numbers_while[i-1] = 1;\n",
    "    }\n",
    "    i++;\n",
    "}\n",
    "\n",
    "System.out.println(\"For Loop\");\n",
    "for (int i=1; i<=50; i++) {\n",
    "    if ((i%3) == 0 || (i%5) == 0) {\n",
    "        System.out.println(i + \" is divisible by 3 or 5\");\n",
    "        numbers_for[i-1] = 1;\n",
    "    }\n",
    "}"
   ]
  },
  {
   "cell_type": "markdown",
   "metadata": {},
   "source": [
    "### Harder Hack\n",
    "#### Palindromes are numbers that have the same value when reversed (ex: “123321” or “323”). Create a program that uses a while loop that outputs all palindromes in any given list. \n",
    "\n",
    "Sample Input: \n",
    "test_list = [5672, 235, 5537, 6032, 317, 8460, 1672, 8104, 7770, 4442, 913, 2508, 1116, 9969, 9091, 522, 8756, 9527, 7968, 1520, 4444, 515, 2882, 6556, 595]\n",
    "\n",
    "Sample Output:\n",
    "4444, 515, 2882, 6556, 595"
   ]
  },
  {
   "cell_type": "code",
   "execution_count": 17,
   "metadata": {},
   "outputs": [
    {
     "name": "stdout",
     "output_type": "stream",
     "text": [
      "Palindromes in the list: [4444, 515, 2882, 6556, 595]\n"
     ]
    }
   ],
   "source": [
    "import java.util.ArrayList;\n",
    "import java.util.List;\n",
    "\n",
    "// Function to check if a number is a palindrome\n",
    "public static boolean isPalindrome(int number) {\n",
    "    String numStr = Integer.toString(number);\n",
    "    int length = numStr.length();\n",
    "    \n",
    "    for (int i = 0; i < length / 2; i++) {\n",
    "        if (numStr.charAt(i) != numStr.charAt(length - 1 - i)) {\n",
    "            return false;\n",
    "        }\n",
    "    }\n",
    "    return true;\n",
    "}\n",
    "\n",
    "// Function to find palindromes in the list\n",
    "public static List<Integer> findPalindromes(int[] numbers) {\n",
    "    List<Integer> palindromes = new ArrayList<>();\n",
    "    int index = 0;\n",
    "    \n",
    "    while (index < numbers.length) {\n",
    "        if (isPalindrome(numbers[index])) {\n",
    "            palindromes.add(numbers[index]);\n",
    "        }\n",
    "        index++;\n",
    "    }\n",
    "    \n",
    "    return palindromes;\n",
    "}\n",
    "\n",
    "int[] testList = {5672, 235, 5537, 6032, 317, 8460, 1672, 8104, 7770, 4442, 913, \n",
    "    2508, 1116, 9969, 9091, 522, 8756, 9527, 7968, 1520, 4444, 515, 2882, 6556, 595};\n",
    "\n",
    "// Find palindromes\n",
    "List<Integer> palindromeList = findPalindromes(testList);\n",
    "\n",
    "// Print the palindromes\n",
    "System.out.println(\"Palindromes in the list: \" + palindromeList);"
   ]
  },
  {
   "cell_type": "markdown",
   "metadata": {},
   "source": [
    "## Bonus Hack (for above 0.9)\n",
    "### Use a for loop to output a spiral matrix with size n\n",
    "Example:\n",
    "\n",
    "Sample Input: n = 3\n",
    "\n",
    "Output: [[1, 2, 3], [8, 9, 4], [7, 6, 5]]"
   ]
  },
  {
   "cell_type": "code",
   "execution_count": null,
   "metadata": {},
   "outputs": [],
   "source": []
  }
 ],
 "metadata": {
  "kernelspec": {
   "display_name": "Java",
   "language": "java",
   "name": "java"
  },
  "language_info": {
   "codemirror_mode": "java",
   "file_extension": ".jshell",
   "mimetype": "text/x-java-source",
   "name": "java",
   "pygments_lexer": "java",
   "version": "17.0.12+7-Ubuntu-1ubuntu222.04"
  }
 },
 "nbformat": 4,
 "nbformat_minor": 2
}
